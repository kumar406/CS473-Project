{
 "cells": [
  {
   "cell_type": "code",
   "execution_count": 1,
   "metadata": {},
   "outputs": [
    {
     "name": "stderr",
     "output_type": "stream",
     "text": [
      "c:\\Python39\\lib\\site-packages\\tqdm\\auto.py:22: TqdmWarning: IProgress not found. Please update jupyter and ipywidgets. See https://ipywidgets.readthedocs.io/en/stable/user_install.html\n",
      "  from .autonotebook import tqdm as notebook_tqdm\n"
     ]
    }
   ],
   "source": [
    "#IMPORTS \n",
    "import module1\n",
    "import module2 \n",
    "import module5a\n",
    "import os\n",
    "\n",
    "# PATHS\n",
    "LABEL_MAP_PATH = 'Tensorflow\\\\workspace\\\\annotations\\\\label_map.pbtxt'\n",
    "CHECKPOINT_PATH = 'Tensorflow\\\\workspace\\\\models\\\\bingus_model\\\\ckpt-4'\n",
    "PIPELINE_CONFIG_PATH = 'Tensorflow\\\\workspace\\\\models\\\\bingus_model\\\\pipeline.config'\n",
    "IMG_FOLDER = 'Collec_2'"
   ]
  },
  {
   "cell_type": "code",
   "execution_count": 2,
   "metadata": {},
   "outputs": [],
   "source": [
    "# Load model from module1|\n",
    "model = module1.load_model(PIPELINE_CONFIG_PATH, CHECKPOINT_PATH)"
   ]
  },
  {
   "cell_type": "code",
   "execution_count": 3,
   "metadata": {},
   "outputs": [],
   "source": [
    "# Set Image path to be detected\n",
    "imgs = []\n",
    "for filename in os.listdir(IMG_FOLDER):\n",
    "    f = os.path.join(IMG_FOLDER, filename)\n",
    "    # checking if it is a file\n",
    "    if os.path.isfile(f) and (filename[(len(filename)-3):] == 'png'):\n",
    "        imgs.append(f)"
   ]
  },
  {
   "cell_type": "code",
   "execution_count": 4,
   "metadata": {},
   "outputs": [
    {
     "name": "stdout",
     "output_type": "stream",
     "text": [
      "1/11\n",
      "2/11\n",
      "3/11\n",
      "4/11\n",
      "5/11\n",
      "6/11\n",
      "7/11\n",
      "8/11\n",
      "9/11\n",
      "10/11\n",
      "11/11\n"
     ]
    }
   ],
   "source": [
    "module1_output = module1.label_images(imgs, LABEL_MAP_PATH, model)"
   ]
  },
  {
   "cell_type": "code",
   "execution_count": 5,
   "metadata": {},
   "outputs": [
    {
     "name": "stdout",
     "output_type": "stream",
     "text": [
      "[{'img': 'Collec_2\\\\001.png', 'labels': [{'label': {'id': 5, 'name': 'rel_attr'}, 'box_norm': array([0.        , 0.20313245, 0.16594177, 0.29826516], dtype=float32), 'box': array([   0,  742,  187, 1090]), 'score': 0.962579}, {'label': {'id': 5, 'name': 'rel_attr'}, 'box_norm': array([0.00166017, 0.7149604 , 0.15913717, 0.82368773], dtype=float32), 'box': array([   1, 2613,  180, 3011]), 'score': 0.95078623}, {'label': {'id': 5, 'name': 'rel_attr'}, 'box_norm': array([0.6385127 , 0.20523691, 0.8042899 , 0.30192268], dtype=float32), 'box': array([ 722,  750,  910, 1103]), 'score': 0.9477001}, {'label': {'id': 1, 'name': 'entity'}, 'box_norm': array([0.26858798, 0.80274224, 0.58017814, 0.9919542 ], dtype=float32), 'box': array([ 304, 2934,  656, 3626]), 'score': 0.94062924}, {'label': {'id': 1, 'name': 'entity'}, 'box_norm': array([0.2674787 , 0.        , 0.5864289 , 0.18572803], dtype=float32), 'box': array([302,   0, 663, 679]), 'score': 0.94033545}, {'label': {'id': 5, 'name': 'rel_attr'}, 'box_norm': array([0.        , 0.6234205 , 0.16085365, 0.7245803 ], dtype=float32), 'box': array([   0, 2279,  182, 2649]), 'score': 0.93981236}, {'label': {'id': 5, 'name': 'rel_attr'}, 'box_norm': array([0.642424  , 0.33200034, 0.8108314 , 0.42754367], dtype=float32), 'box': array([ 727, 1213,  917, 1563]), 'score': 0.9384014}, {'label': {'id': 5, 'name': 'rel_attr'}, 'box_norm': array([0.        , 0.33653086, 0.15927996, 0.42830455], dtype=float32), 'box': array([   0, 1230,  180, 1565]), 'score': 0.9295478}, {'label': {'id': 5, 'name': 'rel_attr'}, 'box_norm': array([0.8326691 , 0.27288023, 0.9995839 , 0.36272457], dtype=float32), 'box': array([ 942,  997, 1131, 1326]), 'score': 0.91630745}, {'label': {'id': 1, 'name': 'entity'}, 'box_norm': array([0.26529402, 0.44200066, 0.80282027, 0.6329268 ], dtype=float32), 'box': array([ 300, 1615,  908, 2313]), 'score': 0.8530357}, {'label': {'id': 3, 'name': 'rel'}, 'box_norm': array([0.28707704, 0.6809797 , 0.57264733, 0.77351665], dtype=float32), 'box': array([ 324, 2489,  648, 2827]), 'score': 0.7123393}, {'label': {'id': 3, 'name': 'rel'}, 'box_norm': array([0.29434237, 0.2710779 , 0.5651566 , 0.36408696], dtype=float32), 'box': array([ 333,  991,  639, 1331]), 'score': 0.5789778}, {'label': {'id': 6, 'name': 'many'}, 'box_norm': array([0.4040834 , 0.18738419, 0.47985646, 0.2698686 ], dtype=float32), 'box': array([457, 685, 543, 986]), 'score': 0.49397725}, {'label': {'id': 5, 'name': 'rel_attr'}, 'box_norm': array([0.00609671, 0.6807677 , 0.15040204, 0.8038247 ], dtype=float32), 'box': array([   6, 2488,  170, 2938]), 'score': 0.4718517}, {'label': {'id': 6, 'name': 'many'}, 'box_norm': array([0.40488705, 0.3615377 , 0.4837273 , 0.46310234], dtype=float32), 'box': array([ 458, 1321,  547, 1693]), 'score': 0.4351856}, {'label': {'id': 6, 'name': 'many'}, 'box_norm': array([0.42026645, 0.2070136 , 0.4979391 , 0.27762714], dtype=float32), 'box': array([ 475,  756,  563, 1015]), 'score': 0.31305578}]}, {'img': 'Collec_2\\\\004.png', 'labels': [{'label': {'id': 1, 'name': 'entity'}, 'box_norm': array([0.21095765, 0.00232431, 0.41107285, 0.13003203], dtype=float32), 'box': array([384,  10, 749, 606]), 'score': 0.98048466}, {'label': {'id': 3, 'name': 'rel'}, 'box_norm': array([0.7470314 , 0.3775847 , 0.87511224, 0.48345536], dtype=float32), 'box': array([1362, 1761, 1596, 2254]), 'score': 0.97149915}, {'label': {'id': 3, 'name': 'rel'}, 'box_norm': array([0.42548802, 0.16094135, 0.5598766 , 0.2668352 ], dtype=float32), 'box': array([ 776,  750, 1021, 1244]), 'score': 0.96505547}, {'label': {'id': 3, 'name': 'rel'}, 'box_norm': array([0.15195179, 0.18087399, 0.28526267, 0.28708345], dtype=float32), 'box': array([ 277,  843,  520, 1338]), 'score': 0.96414936}, {'label': {'id': 3, 'name': 'rel'}, 'box_norm': array([0.6089757, 0.6165238, 0.7474113, 0.7239315], dtype=float32), 'box': array([1110, 2875, 1363, 3376]), 'score': 0.9630082}, {'label': {'id': 1, 'name': 'entity'}, 'box_norm': array([0.80320716, 0.5471508 , 0.9518266 , 0.66867524], dtype=float32), 'box': array([1465, 2551, 1736, 3118]), 'score': 0.9589524}, {'label': {'id': 3, 'name': 'rel'}, 'box_norm': array([0.86218035, 0.28294116, 0.9936558 , 0.38656706], dtype=float32), 'box': array([1572, 1319, 1812, 1802]), 'score': 0.95540756}, {'label': {'id': 2, 'name': 'weak_entity'}, 'box_norm': array([0.07609336, 0.7730033 , 0.46819162, 1.        ], dtype=float32), 'box': array([ 138, 3605,  853, 4664]), 'score': 0.9295367}, {'label': {'id': 1, 'name': 'entity'}, 'box_norm': array([0.44678855, 0.33760685, 0.7222953 , 0.45872188], dtype=float32), 'box': array([ 814, 1574, 1317, 2139]), 'score': 0.9154441}, {'label': {'id': 5, 'name': 'rel_attr'}, 'box_norm': array([0.6222881 , 0.20589408, 0.70989525, 0.2870082 ], dtype=float32), 'box': array([1135,  960, 1294, 1338]), 'score': 0.8826665}, {'label': {'id': 1, 'name': 'entity'}, 'box_norm': array([0.0097914 , 0.33661962, 0.26516956, 0.46448857], dtype=float32), 'box': array([  17, 1569,  483, 2166]), 'score': 0.8781212}, {'label': {'id': 4, 'name': 'ident_rel'}, 'box_norm': array([0.16199644, 0.62577987, 0.2961045 , 0.72605395], dtype=float32), 'box': array([ 295, 2918,  540, 3386]), 'score': 0.8623089}, {'label': {'id': 4, 'name': 'ident_rel'}, 'box_norm': array([0.38291153, 0.5717087 , 0.5153164 , 0.6714331 ], dtype=float32), 'box': array([ 698, 2666,  939, 3131]), 'score': 0.83346474}, {'label': {'id': 5, 'name': 'rel_attr'}, 'box_norm': array([0.00521887, 0.2143777 , 0.08631149, 0.29566413], dtype=float32), 'box': array([   9,  999,  157, 1378]), 'score': 0.6884938}, {'label': {'id': 5, 'name': 'rel_attr'}, 'box_norm': array([0.05242759, 0.13266937, 0.1279373 , 0.20022054], dtype=float32), 'box': array([ 95, 618, 233, 933]), 'score': 0.590465}, {'label': {'id': 1, 'name': 'entity'}, 'box_norm': array([0.07609336, 0.7730033 , 0.46819162, 1.        ], dtype=float32), 'box': array([ 138, 3605,  853, 4664]), 'score': 0.4489914}, {'label': {'id': 5, 'name': 'rel_attr'}, 'box_norm': array([0.631122  , 0.1139318 , 0.70234406, 0.1842463 ], dtype=float32), 'box': array([1151,  531, 1281,  859]), 'score': 0.36311015}]}, {'img': 'Collec_2\\\\005.png', 'labels': [{'label': {'id': 5, 'name': 'rel_attr'}, 'box_norm': array([0.36402482, 0.01261859, 0.4564616 , 0.15894341], dtype=float32), 'box': array([659,  25, 827, 326]), 'score': 0.99025226}, {'label': {'id': 3, 'name': 'rel'}, 'box_norm': array([0.13581476, 0.45708352, 0.23459253, 0.6778502 ], dtype=float32), 'box': array([ 246,  937,  425, 1390]), 'score': 0.98855984}, {'label': {'id': 5, 'name': 'rel_attr'}, 'box_norm': array([0.5922512 , 0.00159512, 0.6868458 , 0.15070379], dtype=float32), 'box': array([1073,    3, 1244,  309]), 'score': 0.9836472}, {'label': {'id': 1, 'name': 'entity'}, 'box_norm': array([0.09480882, 0.15971144, 0.2884733 , 0.39269924], dtype=float32), 'box': array([171, 327, 522, 805]), 'score': 0.98259085}, {'label': {'id': 1, 'name': 'entity'}, 'box_norm': array([0.80395883, 0.65468776, 0.9962297 , 0.88462305], dtype=float32), 'box': array([1456, 1343, 1805, 1815]), 'score': 0.98007494}, {'label': {'id': 1, 'name': 'entity'}, 'box_norm': array([0.10177689, 0.7684019 , 0.27989927, 1.        ], dtype=float32), 'box': array([ 184, 1576,  507, 2052]), 'score': 0.97513634}, {'label': {'id': 3, 'name': 'rel'}, 'box_norm': array([0.48854712, 0.7854312 , 0.64517397, 0.97690195], dtype=float32), 'box': array([ 885, 1611, 1169, 2004]), 'score': 0.95358956}, {'label': {'id': 2, 'name': 'weak_entity'}, 'box_norm': array([0.7401157 , 0.14787228, 0.976409  , 0.40999967], dtype=float32), 'box': array([1341,  303, 1769,  841]), 'score': 0.9519183}, {'label': {'id': 5, 'name': 'rel_attr'}, 'box_norm': array([0.0023294 , 0.5130652 , 0.07194555, 0.61987865], dtype=float32), 'box': array([   4, 1052,  130, 1271]), 'score': 0.9501051}, {'label': {'id': 3, 'name': 'rel'}, 'box_norm': array([0.4480633 , 0.45797652, 0.60002667, 0.6535273 ], dtype=float32), 'box': array([ 811,  939, 1087, 1341]), 'score': 0.9078106}, {'label': {'id': 4, 'name': 'ident_rel'}, 'box_norm': array([0.41576645, 0.14961421, 0.5961206 , 0.40186167], dtype=float32), 'box': array([ 753,  307, 1080,  824]), 'score': 0.8721013}]}, {'img': 'Collec_2\\\\006.png', 'labels': [{'label': {'id': 3, 'name': 'rel'}, 'box_norm': array([0.72980547, 0.06090997, 0.7982789 , 0.21146111], dtype=float32), 'box': array([2738,  192, 2995,  667]), 'score': 0.9782393}, {'label': {'id': 3, 'name': 'rel'}, 'box_norm': array([0.18621773, 0.11294686, 0.28178504, 0.26094982], dtype=float32), 'box': array([ 698,  356, 1057,  823]), 'score': 0.97171843}, {'label': {'id': 3, 'name': 'rel'}, 'box_norm': array([0.21738322, 0.34624887, 0.31099123, 0.50438595], dtype=float32), 'box': array([ 815, 1092, 1166, 1591]), 'score': 0.96842283}, {'label': {'id': 1, 'name': 'entity'}, 'box_norm': array([0.8625599 , 0.01283974, 0.99413025, 0.23408774], dtype=float32), 'box': array([3236,   40, 3729,  738]), 'score': 0.9540347}, {'label': {'id': 2, 'name': 'weak_entity'}, 'box_norm': array([0.3595552 , 0.60304064, 0.68160844, 0.9930658 ], dtype=float32), 'box': array([1349, 1903, 2557, 3134]), 'score': 0.94452983}, {'label': {'id': 4, 'name': 'ident_rel'}, 'box_norm': array([0.47728503, 0.36960024, 0.53736675, 0.5148113 ], dtype=float32), 'box': array([1790, 1166, 2016, 1624]), 'score': 0.9047374}, {'label': {'id': 1, 'name': 'entity'}, 'box_norm': array([0.0057127 , 0.25145328, 0.11470532, 0.5513004 ], dtype=float32), 'box': array([  21,  793,  430, 1739]), 'score': 0.9001783}, {'label': {'id': 1, 'name': 'entity'}, 'box_norm': array([0.45622158, 0.00918038, 0.6472275 , 0.31533533], dtype=float32), 'box': array([1711,   28, 2428,  995]), 'score': 0.85920167}, {'label': {'id': 5, 'name': 'rel_attr'}, 'box_norm': array([0.707334  , 0.3360008 , 0.76774234, 0.59624726], dtype=float32), 'box': array([2653, 1060, 2880, 1881]), 'score': 0.6462939}, {'label': {'id': 1, 'name': 'entity'}, 'box_norm': array([0.01155462, 0.5996955 , 0.12141071, 0.8822277 ], dtype=float32), 'box': array([  43, 1892,  455, 2784]), 'score': 0.63855875}, {'label': {'id': 5, 'name': 'rel_attr'}, 'box_norm': array([0.8032968 , 0.31910357, 0.861174  , 0.5464473 ], dtype=float32), 'box': array([3013, 1007, 3231, 1724]), 'score': 0.6252125}, {'label': {'id': 1, 'name': 'entity'}, 'box_norm': array([0.        , 0.24836281, 0.11197469, 0.4366683 ], dtype=float32), 'box': array([   0,  783,  420, 1378]), 'score': 0.4279026}, {'label': {'id': 1, 'name': 'entity'}, 'box_norm': array([0.        , 0.57952857, 0.12207111, 0.78977525], dtype=float32), 'box': array([   0, 1828,  458, 2492]), 'score': 0.3557251}, {'label': {'id': 2, 'name': 'weak_entity'}, 'box_norm': array([0.4517085 , 0.00727245, 0.64127916, 0.3200696 ], dtype=float32), 'box': array([1694,   22, 2406, 1010]), 'score': 0.30525595}, {'label': {'id': 3, 'name': 'rel'}, 'box_norm': array([0.8049281 , 0.32087415, 0.86199707, 0.5185055 ], dtype=float32), 'box': array([3020, 1012, 3234, 1636]), 'score': 0.30369967}]}, {'img': 'Collec_2\\\\007.png', 'labels': [{'label': {'id': 3, 'name': 'rel'}, 'box_norm': array([0.48298833, 0.1190151 , 0.5969057 , 0.27493232], dtype=float32), 'box': array([1008,  376, 1246,  868]), 'score': 0.9919202}, {'label': {'id': 3, 'name': 'rel'}, 'box_norm': array([0.31558684, 0.4651701 , 0.42997614, 0.61281043], dtype=float32), 'box': array([ 658, 1469,  897, 1936]), 'score': 0.99156356}, {'label': {'id': 3, 'name': 'rel'}, 'box_norm': array([0.7938148, 0.601925 , 0.9111433, 0.756896 ], dtype=float32), 'box': array([1657, 1902, 1902, 2391]), 'score': 0.9849267}, {'label': {'id': 1, 'name': 'entity'}, 'box_norm': array([0.01862866, 0.02288373, 0.40176454, 0.32066113], dtype=float32), 'box': array([  38,   72,  838, 1013]), 'score': 0.97883964}, {'label': {'id': 3, 'name': 'rel'}, 'box_norm': array([0.03124793, 0.47203845, 0.13697407, 0.60706204], dtype=float32), 'box': array([  65, 1491,  286, 1918]), 'score': 0.97414255}, {'label': {'id': 1, 'name': 'entity'}, 'box_norm': array([0.28394598, 0.71839684, 0.598454  , 0.9510115 ], dtype=float32), 'box': array([ 592, 2270, 1249, 3005]), 'score': 0.9737015}, {'label': {'id': 1, 'name': 'entity'}, 'box_norm': array([0.7648934 , 0.09354807, 0.9962237 , 0.3097846 ], dtype=float32), 'box': array([1597,  295, 2080,  978]), 'score': 0.9700015}, {'label': {'id': 1, 'name': 'entity'}, 'box_norm': array([0.        , 0.7143369 , 0.24297842, 0.9484378 ], dtype=float32), 'box': array([   0, 2257,  507, 2997]), 'score': 0.95975304}, {'label': {'id': 5, 'name': 'rel_attr'}, 'box_norm': array([0.18454081, 0.4910436 , 0.2603493 , 0.5841616 ], dtype=float32), 'box': array([ 385, 1551,  543, 1845]), 'score': 0.8954127}, {'label': {'id': 1, 'name': 'entity'}, 'box_norm': array([0.00767326, 0.721152  , 0.17027779, 0.93148357], dtype=float32), 'box': array([  16, 2278,  355, 2943]), 'score': 0.30194443}]}, {'img': 'Collec_2\\\\008.png', 'labels': [{'label': {'id': 3, 'name': 'rel'}, 'box_norm': array([0.15333873, 0.6544608 , 0.30659992, 0.76101243], dtype=float32), 'box': array([ 239, 2201,  479, 2560]), 'score': 0.9839988}, {'label': {'id': 3, 'name': 'rel'}, 'box_norm': array([0.20177796, 0.25000077, 0.35810968, 0.35768956], dtype=float32), 'box': array([ 315,  841,  560, 1203]), 'score': 0.97814816}, {'label': {'id': 1, 'name': 'entity'}, 'box_norm': array([0.7396948 , 0.00550193, 0.98110086, 0.21549758], dtype=float32), 'box': array([1156,   18, 1534,  724]), 'score': 0.97731096}, {'label': {'id': 1, 'name': 'entity'}, 'box_norm': array([0.00371544, 0.78073394, 0.29790074, 0.99706805], dtype=float32), 'box': array([   5, 2626,  465, 3354]), 'score': 0.9693422}, {'label': {'id': 3, 'name': 'rel'}, 'box_norm': array([0.5623617 , 0.20049374, 0.7153213 , 0.29628968], dtype=float32), 'box': array([ 879,  674, 1118,  996]), 'score': 0.9503417}, {'label': {'id': 1, 'name': 'entity'}, 'box_norm': array([0.45369342, 0.4161436 , 1.        , 0.62150997], dtype=float32), 'box': array([ 709, 1399, 1564, 2090]), 'score': 0.94936204}, {'label': {'id': 5, 'name': 'rel_attr'}, 'box_norm': array([0.00103429, 0.5585456 , 0.10373922, 0.6871679 ], dtype=float32), 'box': array([   1, 1878,  162, 2311]), 'score': 0.94726664}, {'label': {'id': 1, 'name': 'entity'}, 'box_norm': array([0.02017324, 0.        , 0.51548004, 0.20638517], dtype=float32), 'box': array([ 31,   0, 806, 694]), 'score': 0.9134092}]}, {'img': 'Collec_2\\\\009.png', 'labels': [{'label': {'id': 5, 'name': 'rel_attr'}, 'box_norm': array([0.6279924 , 0.5243683 , 0.69785035, 0.6527941 ], dtype=float32), 'box': array([1597, 1671, 1775, 2081]), 'score': 0.9825698}, {'label': {'id': 1, 'name': 'entity'}, 'box_norm': array([0.78534627, 0.0057843 , 0.9940096 , 0.24166933], dtype=float32), 'box': array([1997,   18, 2528,  770]), 'score': 0.9816819}, {'label': {'id': 1, 'name': 'entity'}, 'box_norm': array([0.00257809, 0.00206041, 0.24337548, 0.23196211], dtype=float32), 'box': array([  6,   6, 619, 739]), 'score': 0.9798566}, {'label': {'id': 3, 'name': 'rel'}, 'box_norm': array([0.21209681, 0.27006134, 0.30680776, 0.42547855], dtype=float32), 'box': array([ 539,  860,  780, 1356]), 'score': 0.9745172}, {'label': {'id': 3, 'name': 'rel'}, 'box_norm': array([0.66612506, 0.31069165, 0.75809515, 0.46670085], dtype=float32), 'box': array([1694,  990, 1928, 1487]), 'score': 0.9736777}, {'label': {'id': 3, 'name': 'rel'}, 'box_norm': array([0.6006261 , 0.03517475, 0.6963861 , 0.19075754], dtype=float32), 'box': array([1527,  112, 1771,  608]), 'score': 0.963752}, {'label': {'id': 3, 'name': 'rel'}, 'box_norm': array([0.3081781 , 0.04435713, 0.40161183, 0.19698375], dtype=float32), 'box': array([ 784,  141, 1021,  627]), 'score': 0.96240777}, {'label': {'id': 1, 'name': 'entity'}, 'box_norm': array([0.40916073, 0.7781936 , 0.56806964, 0.99850893], dtype=float32), 'box': array([1040, 2480, 1445, 3183]), 'score': 0.9587467}, {'label': {'id': 1, 'name': 'entity'}, 'box_norm': array([0.4493633 , 0.04199384, 0.53039074, 0.17639011], dtype=float32), 'box': array([1143,  133, 1349,  562]), 'score': 0.9583573}, {'label': {'id': 1, 'name': 'entity'}, 'box_norm': array([0.05452532, 0.54311955, 0.1778833 , 0.76626277], dtype=float32), 'box': array([ 138, 1731,  452, 2442]), 'score': 0.95467824}, {'label': {'id': 3, 'name': 'rel'}, 'box_norm': array([0.47477913, 0.5422401 , 0.57200134, 0.6946228 ], dtype=float32), 'box': array([1207, 1728, 1455, 2214]), 'score': 0.9535711}, {'label': {'id': 5, 'name': 'rel_attr'}, 'box_norm': array([0.6365037 , 0.6669074 , 0.70874906, 0.79499817], dtype=float32), 'box': array([1619, 2126, 1803, 2534]), 'score': 0.9531661}, {'label': {'id': 1, 'name': 'entity'}, 'box_norm': array([0.40273184, 0.28238833, 0.60225564, 0.49900454], dtype=float32), 'box': array([1024,  900, 1532, 1590]), 'score': 0.9430389}, {'label': {'id': 3, 'name': 'rel'}, 'box_norm': array([0.07731722, 0.31793475, 0.17354317, 0.4735527 ], dtype=float32), 'box': array([ 196, 1013,  441, 1509]), 'score': 0.9410475}, {'label': {'id': 3, 'name': 'rel'}, 'box_norm': array([0.27571267, 0.5828926 , 0.3709218 , 0.7375558 ], dtype=float32), 'box': array([ 701, 1858,  943, 2351]), 'score': 0.9376475}, {'label': {'id': 5, 'name': 'rel_attr'}, 'box_norm': array([0.4493633 , 0.04199384, 0.53039074, 0.17639011], dtype=float32), 'box': array([1143,  133, 1349,  562]), 'score': 0.72947055}, {'label': {'id': 1, 'name': 'entity'}, 'box_norm': array([0.41514933, 0.7693362 , 0.6515236 , 1.        ], dtype=float32), 'box': array([1056, 2452, 1657, 3188]), 'score': 0.39482334}]}, {'img': 'Collec_2\\\\010.png', 'labels': [{'label': {'id': 3, 'name': 'rel'}, 'box_norm': array([0.26005113, 0.5147207 , 0.35655576, 0.6107805 ], dtype=float32), 'box': array([ 625, 2625,  857, 3114]), 'score': 0.9715207}, {'label': {'id': 1, 'name': 'entity'}, 'box_norm': array([0.6998828, 0.3171288, 0.9803954, 0.4464585], dtype=float32), 'box': array([1682, 1617, 2356, 2276]), 'score': 0.9676399}, {'label': {'id': 1, 'name': 'entity'}, 'box_norm': array([0.00586903, 0.31643417, 0.31887063, 0.44496927], dtype=float32), 'box': array([  14, 1613,  766, 2269]), 'score': 0.9565918}, {'label': {'id': 3, 'name': 'rel'}, 'box_norm': array([0.73394465, 0.5282564 , 0.83940136, 0.6197456 ], dtype=float32), 'box': array([1764, 2694, 2017, 3160]), 'score': 0.94421804}, {'label': {'id': 4, 'name': 'ident_rel'}, 'box_norm': array([0.49726075, 0.34184802, 0.59769684, 0.43205982], dtype=float32), 'box': array([1195, 1743, 1436, 2203]), 'score': 0.9303469}, {'label': {'id': 3, 'name': 'rel'}, 'box_norm': array([0.7884438, 0.6666787, 0.8816031, 0.7565214], dtype=float32), 'box': array([1895, 3400, 2119, 3858]), 'score': 0.91986126}, {'label': {'id': 1, 'name': 'entity'}, 'box_norm': array([0.41821074, 0.62867975, 0.61142015, 0.7808337 ], dtype=float32), 'box': array([1005, 3206, 1469, 3982]), 'score': 0.890322}, {'label': {'id': 2, 'name': 'weak_entity'}, 'box_norm': array([0.40070346, 0.00487979, 0.77946424, 0.16676144], dtype=float32), 'box': array([ 963,   24, 1873,  850]), 'score': 0.8864892}, {'label': {'id': 3, 'name': 'rel'}, 'box_norm': array([0.19917592, 0.6529413 , 0.2911229 , 0.73689896], dtype=float32), 'box': array([ 478, 3330,  699, 3758]), 'score': 0.88261586}, {'label': {'id': 2, 'name': 'weak_entity'}, 'box_norm': array([0.39069286, 0.8490323 , 0.5662507 , 1.        ], dtype=float32), 'box': array([ 939, 4330, 1361, 5100]), 'score': 0.88029546}, {'label': {'id': 4, 'name': 'ident_rel'}, 'box_norm': array([0.18211988, 0.17470396, 0.28100088, 0.26730347], dtype=float32), 'box': array([ 437,  890,  675, 1363]), 'score': 0.86275554}, {'label': {'id': 3, 'name': 'rel'}, 'box_norm': array([0.8991438 , 0.17608494, 0.9896475 , 0.26531303], dtype=float32), 'box': array([2161,  898, 2379, 1353]), 'score': 0.8089228}, {'label': {'id': 5, 'name': 'rel_attr'}, 'box_norm': array([0.8624895 , 0.74728674, 0.9324917 , 0.8313932 ], dtype=float32), 'box': array([2073, 3811, 2241, 4240]), 'score': 0.78967726}, {'label': {'id': 5, 'name': 'rel_attr'}, 'box_norm': array([0.11686602, 0.7233622 , 0.18591028, 0.80768466], dtype=float32), 'box': array([ 280, 3689,  446, 4119]), 'score': 0.75118953}, {'label': {'id': 2, 'name': 'weak_entity'}, 'box_norm': array([0.41821074, 0.62867975, 0.61142015, 0.7808337 ], dtype=float32), 'box': array([1005, 3206, 1469, 3982]), 'score': 0.64094776}, {'label': {'id': 4, 'name': 'ident_rel'}, 'box_norm': array([0.8991438 , 0.17608494, 0.9896475 , 0.26531303], dtype=float32), 'box': array([2161,  898, 2379, 1353]), 'score': 0.6295876}, {'label': {'id': 3, 'name': 'rel'}, 'box_norm': array([0.18211988, 0.17470396, 0.28100088, 0.26730347], dtype=float32), 'box': array([ 437,  890,  675, 1363]), 'score': 0.53602326}, {'label': {'id': 2, 'name': 'weak_entity'}, 'box_norm': array([0.406294  , 0.8590679 , 0.66152334, 0.9907011 ], dtype=float32), 'box': array([ 976, 4381, 1590, 5052]), 'score': 0.5252815}, {'label': {'id': 1, 'name': 'entity'}, 'box_norm': array([0.40070346, 0.00487979, 0.77946424, 0.16676144], dtype=float32), 'box': array([ 963,   24, 1873,  850]), 'score': 0.4565107}, {'label': {'id': 1, 'name': 'entity'}, 'box_norm': array([0.39301282, 0.8533072 , 0.5957292 , 0.9925931 ], dtype=float32), 'box': array([ 944, 4351, 1432, 5062]), 'score': 0.39748988}, {'label': {'id': 5, 'name': 'rel_attr'}, 'box_norm': array([0.39396596, 0.84960735, 0.56715226, 1.        ], dtype=float32), 'box': array([ 947, 4332, 1363, 5100]), 'score': 0.35592222}, {'label': {'id': 4, 'name': 'ident_rel'}, 'box_norm': array([0.19917592, 0.6529413 , 0.2911229 , 0.73689896], dtype=float32), 'box': array([ 478, 3330,  699, 3758]), 'score': 0.3528953}, {'label': {'id': 4, 'name': 'ident_rel'}, 'box_norm': array([0.7884438, 0.6666787, 0.8816031, 0.7565214], dtype=float32), 'box': array([1895, 3400, 2119, 3858]), 'score': 0.33176026}]}, {'img': 'Collec_2\\\\011.png', 'labels': [{'label': {'id': 1, 'name': 'entity'}, 'box_norm': array([0.2370508 , 0.37901586, 0.43777433, 0.6071629 ], dtype=float32), 'box': array([ 437, 1623,  807, 2601]), 'score': 0.98317486}, {'label': {'id': 1, 'name': 'entity'}, 'box_norm': array([0.6482058 , 0.38190037, 0.96017116, 0.5972581 ], dtype=float32), 'box': array([1195, 1636, 1770, 2558]), 'score': 0.97095156}, {'label': {'id': 5, 'name': 'rel_attr'}, 'box_norm': array([0.00990858, 0.6266595 , 0.10258333, 0.7209625 ], dtype=float32), 'box': array([  18, 2684,  189, 3088]), 'score': 0.95164496}, {'label': {'id': 3, 'name': 'rel'}, 'box_norm': array([0.24461353, 0.25526333, 0.4288016 , 0.33948767], dtype=float32), 'box': array([ 451, 1093,  790, 1454]), 'score': 0.91172945}, {'label': {'id': 3, 'name': 'rel'}, 'box_norm': array([0.82185143, 0.6524784 , 0.9959635 , 0.7320195 ], dtype=float32), 'box': array([1515, 2795, 1836, 3135]), 'score': 0.908208}, {'label': {'id': 3, 'name': 'rel'}, 'box_norm': array([0.6584965 , 0.6536238 , 0.84263515, 0.73165417], dtype=float32), 'box': array([1214, 2800, 1553, 3134]), 'score': 0.9042653}, {'label': {'id': 1, 'name': 'entity'}, 'box_norm': array([0.11863831, 0.7721595 , 1.        , 1.        ], dtype=float32), 'box': array([ 218, 3307, 1844, 4284]), 'score': 0.9041779}, {'label': {'id': 3, 'name': 'rel'}, 'box_norm': array([0.82091916, 0.2703738 , 0.99383426, 0.34943566], dtype=float32), 'box': array([1513, 1158, 1832, 1496]), 'score': 0.89673144}, {'label': {'id': 3, 'name': 'rel'}, 'box_norm': array([0.26127428, 0.63004243, 0.43624604, 0.7137667 ], dtype=float32), 'box': array([ 481, 2699,  804, 3057]), 'score': 0.8926305}, {'label': {'id': 5, 'name': 'rel_attr'}, 'box_norm': array([0.004009  , 0.25306675, 0.08943692, 0.344664  ], dtype=float32), 'box': array([   7, 1084,  164, 1476]), 'score': 0.882487}, {'label': {'id': 3, 'name': 'rel'}, 'box_norm': array([0.65802264, 0.26908326, 0.83406496, 0.34741026], dtype=float32), 'box': array([1213, 1152, 1538, 1488]), 'score': 0.8533611}, {'label': {'id': 1, 'name': 'entity'}, 'box_norm': array([0.07398912, 0.00108336, 0.9693903 , 0.20298733], dtype=float32), 'box': array([ 136,    4, 1787,  869]), 'score': 0.78156394}, {'label': {'id': 1, 'name': 'entity'}, 'box_norm': array([0.09250191, 0.00894857, 0.68691313, 0.22271091], dtype=float32), 'box': array([ 170,   38, 1266,  954]), 'score': 0.34031042}, {'label': {'id': 1, 'name': 'entity'}, 'box_norm': array([0.13658568, 0.76683563, 0.71915567, 0.9860038 ], dtype=float32), 'box': array([ 251, 3285, 1326, 4224]), 'score': 0.32352498}]}, {'img': 'Collec_2\\\\012.png', 'labels': [{'label': {'id': 2, 'name': 'weak_entity'}, 'box_norm': array([0.21037316, 0.36422533, 0.41930884, 0.5936016 ], dtype=float32), 'box': array([ 733, 1204, 1462, 1963]), 'score': 0.9663052}, {'label': {'id': 4, 'name': 'ident_rel'}, 'box_norm': array([0.52798086, 0.08369594, 0.5965492 , 0.22456276], dtype=float32), 'box': array([1841,  276, 2080,  742]), 'score': 0.93024653}, {'label': {'id': 4, 'name': 'ident_rel'}, 'box_norm': array([0.530917  , 0.39343667, 0.59462005, 0.5401003 ], dtype=float32), 'box': array([1851, 1301, 2074, 1786]), 'score': 0.9190467}, {'label': {'id': 4, 'name': 'ident_rel'}, 'box_norm': array([0.36624458, 0.11704453, 0.43369278, 0.26183996], dtype=float32), 'box': array([1277,  387, 1512,  866]), 'score': 0.90982854}, {'label': {'id': 4, 'name': 'ident_rel'}, 'box_norm': array([0.53023577, 0.75095534, 0.594946  , 0.88970935], dtype=float32), 'box': array([1849, 2484, 2075, 2943]), 'score': 0.9075803}, {'label': {'id': 2, 'name': 'weak_entity'}, 'box_norm': array([0.0024903 , 0.05317079, 0.20861182, 0.3179006 ], dtype=float32), 'box': array([   8,  175,  727, 1051]), 'score': 0.9072025}, {'label': {'id': 4, 'name': 'ident_rel'}, 'box_norm': array([0.37712   , 0.6754784 , 0.44783524, 0.816963  ], dtype=float32), 'box': array([1315, 2234, 1562, 2702]), 'score': 0.9060393}, {'label': {'id': 2, 'name': 'weak_entity'}, 'box_norm': array([0.        , 0.6341895 , 0.21197839, 0.90547407], dtype=float32), 'box': array([   0, 2097,  739, 2995]), 'score': 0.8964155}, {'label': {'id': 4, 'name': 'ident_rel'}, 'box_norm': array([0.85997915, 0.08742752, 0.93179035, 0.227947  ], dtype=float32), 'box': array([2999,  289, 3250,  754]), 'score': 0.8799279}, {'label': {'id': 4, 'name': 'ident_rel'}, 'box_norm': array([0.85860604, 0.7646227 , 0.93119377, 0.9033462 ], dtype=float32), 'box': array([2994, 2529, 3248, 2988]), 'score': 0.87991846}, {'label': {'id': 4, 'name': 'ident_rel'}, 'box_norm': array([0.2654407, 0.6746666, 0.3331197, 0.8167873], dtype=float32), 'box': array([ 925, 2231, 1161, 2701]), 'score': 0.8375204}, {'label': {'id': 1, 'name': 'entity'}, 'box_norm': array([0.8374393 , 0.3581559 , 0.94554543, 0.59414613], dtype=float32), 'box': array([2920, 1184, 3298, 1965]), 'score': 0.6909413}, {'label': {'id': 1, 'name': 'entity'}, 'box_norm': array([0.5304282 , 0.74970955, 0.7463739 , 0.8929166 ], dtype=float32), 'box': array([1850, 2480, 2603, 2953]), 'score': 0.60655147}, {'label': {'id': 5, 'name': 'rel_attr'}, 'box_norm': array([0.9545335 , 0.01564975, 0.99954313, 0.14561613], dtype=float32), 'box': array([3329,   51, 3486,  481]), 'score': 0.6026548}, {'label': {'id': 5, 'name': 'rel_attr'}, 'box_norm': array([0.95521206, 0.17673744, 0.99645346, 0.2998195 ], dtype=float32), 'box': array([3331,  584, 3475,  991]), 'score': 0.59421927}, {'label': {'id': 5, 'name': 'rel_attr'}, 'box_norm': array([0.9565414 , 0.8539848 , 0.99514043, 0.9818788 ], dtype=float32), 'box': array([3336, 2824, 3471, 3248]), 'score': 0.58223}, {'label': {'id': 5, 'name': 'rel_attr'}, 'box_norm': array([0.9544255 , 0.6791921 , 0.99913317, 0.8103431 ], dtype=float32), 'box': array([3329, 2246, 3484, 2680]), 'score': 0.5414381}, {'label': {'id': 2, 'name': 'weak_entity'}, 'box_norm': array([0.8398074 , 0.36300048, 0.9443736 , 0.5993372 ], dtype=float32), 'box': array([2929, 1200, 3293, 1982]), 'score': 0.47861284}, {'label': {'id': 1, 'name': 'entity'}, 'box_norm': array([0.21037316, 0.36422533, 0.41930884, 0.5936016 ], dtype=float32), 'box': array([ 733, 1204, 1462, 1963]), 'score': 0.45569152}, {'label': {'id': 2, 'name': 'weak_entity'}, 'box_norm': array([0.6679787 , 0.36461022, 0.80367917, 0.58610547], dtype=float32), 'box': array([2329, 1206, 2803, 1938]), 'score': 0.42323372}, {'label': {'id': 6, 'name': 'many'}, 'box_norm': array([0.19813643, 0.12988907, 0.23492955, 0.16453126], dtype=float32), 'box': array([691, 429, 819, 544]), 'score': 0.3783025}, {'label': {'id': 1, 'name': 'entity'}, 'box_norm': array([0.01152691, 0.6316338 , 0.20372218, 0.9010915 ], dtype=float32), 'box': array([  40, 2089,  710, 2980]), 'score': 0.32104445}]}, {'img': 'Collec_2\\\\013.png', 'labels': [{'label': {'id': 3, 'name': 'rel'}, 'box_norm': array([0.4245516 , 0.44875428, 0.49436772, 0.5905843 ], dtype=float32), 'box': array([1428, 1418, 1663, 1867]), 'score': 0.9794035}, {'label': {'id': 3, 'name': 'rel'}, 'box_norm': array([0.20297047, 0.7958116 , 0.2746384 , 0.9470789 ], dtype=float32), 'box': array([ 682, 2516,  923, 2994]), 'score': 0.97822416}, {'label': {'id': 1, 'name': 'entity'}, 'box_norm': array([0.01748285, 0.64699835, 0.1409961 , 0.87580997], dtype=float32), 'box': array([  58, 2045,  474, 2769]), 'score': 0.9582104}, {'label': {'id': 2, 'name': 'weak_entity'}, 'box_norm': array([0.1869171 , 0.02499975, 0.45989028, 0.28076112], dtype=float32), 'box': array([ 628,   79, 1547,  887]), 'score': 0.93987894}, {'label': {'id': 3, 'name': 'rel'}, 'box_norm': array([0.787697 , 0.4295135, 0.854937 , 0.5848542], dtype=float32), 'box': array([2649, 1358, 2876, 1849]), 'score': 0.93830085}, {'label': {'id': 3, 'name': 'rel'}, 'box_norm': array([0.5818492 , 0.41512778, 0.6551291 , 0.59033823], dtype=float32), 'box': array([1957, 1312, 2203, 1866]), 'score': 0.93804693}, {'label': {'id': 1, 'name': 'entity'}, 'box_norm': array([0.62756544, 0.7117306 , 0.7458325 , 0.9282533 ], dtype=float32), 'box': array([2111, 2250, 2508, 2935]), 'score': 0.93779445}, {'label': {'id': 1, 'name': 'entity'}, 'box_norm': array([0.33346555, 0.63303393, 0.5160191 , 0.87561184], dtype=float32), 'box': array([1121, 2001, 1735, 2768]), 'score': 0.9329565}, {'label': {'id': 2, 'name': 'weak_entity'}, 'box_norm': array([0.5781001 , 0.02777305, 0.96910644, 0.27888685], dtype=float32), 'box': array([1944,   87, 3260,  881]), 'score': 0.9305275}, {'label': {'id': 5, 'name': 'rel_attr'}, 'box_norm': array([0.87963706, 0.42369026, 0.93251723, 0.5969301 ], dtype=float32), 'box': array([2959, 1339, 3136, 1887]), 'score': 0.91093284}, {'label': {'id': 4, 'name': 'ident_rel'}, 'box_norm': array([0.06634571, 0.35596493, 0.1447458 , 0.54732394], dtype=float32), 'box': array([ 223, 1125,  486, 1730]), 'score': 0.87432903}, {'label': {'id': 4, 'name': 'ident_rel'}, 'box_norm': array([0.17604545, 0.38498032, 0.25375053, 0.56015056], dtype=float32), 'box': array([ 592, 1217,  853, 1771]), 'score': 0.8595048}, {'label': {'id': 5, 'name': 'rel_attr'}, 'box_norm': array([0.70129305, 0.3787414 , 0.75682145, 0.57037854], dtype=float32), 'box': array([2359, 1197, 2545, 1803]), 'score': 0.664155}, {'label': {'id': 2, 'name': 'weak_entity'}, 'box_norm': array([0.33346555, 0.63303393, 0.5160191 , 0.87561184], dtype=float32), 'box': array([1121, 2001, 1735, 2768]), 'score': 0.46804902}, {'label': {'id': 1, 'name': 'entity'}, 'box_norm': array([0.5787282 , 0.03173327, 0.9682777 , 0.28201726], dtype=float32), 'box': array([1946,  100, 3257,  891]), 'score': 0.3530039}, {'label': {'id': 1, 'name': 'entity'}, 'box_norm': array([0.6525408 , 0.7022145 , 0.8724053 , 0.94351006], dtype=float32), 'box': array([2195, 2220, 2934, 2983]), 'score': 0.33583352}]}]\n"
     ]
    }
   ],
   "source": [
    "print(module1_output)"
   ]
  },
  {
   "cell_type": "code",
   "execution_count": 6,
   "metadata": {},
   "outputs": [
    {
     "name": "stderr",
     "output_type": "stream",
     "text": [
      "CUDA not available - defaulting to CPU. Note: This module is much faster with a GPU.\n"
     ]
    },
    {
     "name": "stdout",
     "output_type": "stream",
     "text": [
      "Collec_2\\001.png\n"
     ]
    },
    {
     "name": "stderr",
     "output_type": "stream",
     "text": [
      "CUDA not available - defaulting to CPU. Note: This module is much faster with a GPU.\n"
     ]
    },
    {
     "name": "stdout",
     "output_type": "stream",
     "text": [
      "[['rel_attr', 'origin'], ['rel_attr', 'price'], ['rel_attr', 'departure', 'date-time'], ['entity', 'PK', 'type', 'max weight', 'bag'], ['entity', 'airline', 'PK', 'name', 'rating'], ['rel_attr', 'max #'], ['rel_attr', 'duration'], ['rel_attr', 'destination'], ['rel_attr', 'arrival date -', 'time'], ['entity', 'trip', 'PK', 'number', 'class', 'price', 'type'], ['rel', 'allows'], ['rel', 'flight'], ['many'], ['rel_attr', '#', 'price'], ['many', 'PDS'], ['many']]\n",
      "Collec_2\\004.png\n"
     ]
    },
    {
     "name": "stderr",
     "output_type": "stream",
     "text": [
      "CUDA not available - defaulting to CPU. Note: This module is much faster with a GPU.\n"
     ]
    },
    {
     "name": "stdout",
     "output_type": "stream",
     "text": [
      "[['entity', 'PK', 'type', 'maximum', 'weight', 'Bag'], ['rel', 'Booking airline'], ['rel', 'Includes'], ['rel', 'Includes'], ['rel', 'Operating airline'], ['entity', 'Airline', 'PK', 'name', 'rating'], ['rel', 'Bboking airline'], ['weak_entity', 'Flight', 'PK', 'origin', 'PK', 'destination', 'PK', 'departure_time', 'duration', 'arrival', 'time'], ['entity', 'Two-way Trip', 'PK', 'number', 'class', 'price'], ['rel_attr', 'maximum', 'number'], ['entity', 'One-way Trip', 'PK', 'number', 'class', 'price'], ['ident_rel', 'Contains'], ['ident_rel', 'Contains'], ['rel_attr', 'maximum', 'number'], ['rel_attr', 'price'], ['entity', 'Flight', 'PK', 'origin', 'PK', 'destination', 'PK', 'departure_time', 'duration', 'arrival', 'time'], ['rel_attr', 'price']]\n",
      "Collec_2\\005.png\n"
     ]
    },
    {
     "name": "stderr",
     "output_type": "stream",
     "text": [
      "CUDA not available - defaulting to CPU. Note: This module is much faster with a GPU.\n"
     ]
    },
    {
     "name": "stdout",
     "output_type": "stream",
     "text": [
      "[['rel_attr', 'Price'], ['rel', 'Has'], ['rel_attr', 'Maximum', 'Number'], ['entity', 'Trip', 'Number', 'Class', 'Price'], ['entity', 'Airline', 'Name', 'Rating'], ['entity', 'Flight', 'FlightNumber', 'Departure Date-Time', 'Arrival Date-Time', 'Duration'], ['rel', 'Operates'], ['weak_entity', 'Bag', 'NumType', 'MaximumWeight'], ['rel_attr', 'Type'], ['rel', 'Sold By'], ['ident_rel', 'Allows']]\n",
      "Collec_2\\006.png\n"
     ]
    },
    {
     "name": "stderr",
     "output_type": "stream",
     "text": [
      "CUDA not available - defaulting to CPU. Note: This module is much faster with a GPU.\n"
     ]
    },
    {
     "name": "stdout",
     "output_type": "stream",
     "text": [
      "[['rel', 'Allowed'], ['rel', 'Sold by'], ['rel', 'Operated by'], ['entity', 'Bag', 'PK', 'type', 'maximum_weight'], ['weak_entity', 'Flight', 'PK,FK', 'number', 'origin_departure_', 'date', 'time', 'destination_arrival', 'date', 'time', 'destination', 'arrival', 'date', 'time', 'origin', 'to', 'destination', 'duration', 'destination_departure', 'date', 'time NULL', 'origin_arrivial_', 'date', 'time NULL', 'destination', 'to_origin__', 'duration NULL'], ['ident_rel', 'Flown on'], ['entity', 'Airline', 'PK', 'name', 'rating'], ['entity', 'Trip', 'PK', 'number', 'type', 'class', 'price'], ['rel_attr', 'price'], ['entity'], ['rel_attr', 'maximum', 'number'], ['entity', 'Airline', 'PK', 'name', 'rating'], ['entity'], ['weak_entity', 'Trip', 'PK', 'number', 'type', 'class', 'price'], ['rel', 'maximum', 'number']]\n",
      "Collec_2\\007.png\n"
     ]
    },
    {
     "name": "stderr",
     "output_type": "stream",
     "text": [
      "CUDA not available - defaulting to CPU. Note: This module is much faster with a GPU.\n"
     ]
    },
    {
     "name": "stdout",
     "output_type": "stream",
     "text": [
      "[['rel', 'sold by'], ['rel', 'has'], ['rel', 'operated by'], ['entity', 'trip', 'PK', 'trip_number', 'class', 'origin', 'destination', 'maximun', 'number_bags', 'price'], ['rel', 'allow'], ['entity', 'flight', 'PK', 'fligbt', 'number', 'departure_', 'date', 'time', 'arrival', 'date', 'time', 'duration'], ['entity', 'airline', 'PK', 'company_id', 'name', 'rating'], ['entity', 'Bag_type', 'PKI', 'type', 'name', 'maximum_weight'], ['rel_attr', 'price'], ['entity', 'Bag_type', 'PKI', 'type', 'name', 'maximum', 'weight']]\n",
      "Collec_2\\008.png\n"
     ]
    },
    {
     "name": "stderr",
     "output_type": "stream",
     "text": [
      "CUDA not available - defaulting to CPU. Note: This module is much faster with a GPU.\n"
     ]
    },
    {
     "name": "stdout",
     "output_type": "stream",
     "text": [
      "[['rel', 'allows'], ['rel', 'has'], ['entity', 'airline', 'PK', 'name', 'rating'], ['entity', 'bag', 'PK', 'type', 'max_weight', 'price'], ['rel', 'sells by'], ['entity', 'trip', 'PK', 'uid', 'type', 'class', 'price', 'origin', 'destination'], ['rel_attr', 'max', 'number'], ['entity', 'flight', 'PK', 'flight_uid', 'origin', 'destination', 'departure-time', 'arrival-time', 'duration']]\n",
      "Collec_2\\009.png\n"
     ]
    },
    {
     "name": "stderr",
     "output_type": "stream",
     "text": [
      "CUDA not available - defaulting to CPU. Note: This module is much faster with a GPU.\n"
     ]
    },
    {
     "name": "stdout",
     "output_type": "stream",
     "text": [
      "[['rel_attr', 'max_bags'], ['entity', 'Airline', 'PK', 'Uniqueld', 'name', 'rating'], ['entity', 'One-way', 'PK', 'Uniqueld', 'departure_date-time', 'arrival', 'date-time', 'duration'], ['rel', 'Can have'], ['rel', 'Sells'], ['rel', 'Provides'], ['rel', 'Uses'], ['entity', 'PK', 'type', 'max', 'weight', 'Bag'], ['entity', 'Flight'], ['entity', 'Round-trip', 'PK', 'Uniqueld'], ['rel', 'Allows'], ['rel_attr', 'price'], ['entity', 'Trip', 'PK', 'Uniqueld', 'class', 'price'], ['rel', 'Contains'], ['rel', 'Can have'], ['rel_attr', 'Flight'], ['entity', 'Bag', 'PK', 'type', 'max_weight']]\n",
      "Collec_2\\010.png\n"
     ]
    },
    {
     "name": "stderr",
     "output_type": "stream",
     "text": [
      "CUDA not available - defaulting to CPU. Note: This module is much faster with a GPU.\n"
     ]
    },
    {
     "name": "stdout",
     "output_type": "stream",
     "text": [
      "[['rel', 'Sold by'], ['entity', 'Round-trip', 'PK', 'Unique_ Number', 'Class', 'Price', 'Price', 'Bag'], ['entity', 'One-way Trip', 'PK', 'Unique_Number', 'Class', 'Price', 'Price', 'Bag'], ['rel', 'Sold by'], ['ident_rel', 'Operated by'], ['rel', 'Allowed Bags'], ['entity', 'Airline', 'PK', 'Name', 'Rating'], ['weak_entity', 'Flights', 'Origin', 'Destination', 'Departure Date-time', 'Arrival Date-time', 'Duration'], ['rel', 'Allowed Bags'], ['weak_entity', 'Type', 'Max Weight', 'Bag'], ['ident_rel', 'Has'], ['rel', 'Has'], ['rel_attr', 'Max Bags'], ['rel_attr', 'Max Bags'], ['weak_entity', 'Airline', 'PK', 'Name', 'Rating'], ['ident_rel', 'Has'], ['rel', 'Has'], ['weak_entity', 'Type', 'Max Weight', 'Bag'], ['entity', 'Flights', 'Origin', 'Destination', 'Departure Date-time', 'Arrival Date-time', 'Duration'], ['entity', 'Type', 'Max Weight', 'Bag'], ['rel_attr', 'Type', 'Max Weight', 'Bag'], ['ident_rel', 'Allowed Bags'], ['ident_rel', 'Allowed Bags']]\n",
      "Collec_2\\011.png\n"
     ]
    },
    {
     "name": "stderr",
     "output_type": "stream",
     "text": [
      "CUDA not available - defaulting to CPU. Note: This module is much faster with a GPU.\n"
     ]
    },
    {
     "name": "stdout",
     "output_type": "stream",
     "text": [
      "[['entity', 'Bags', 'PK', 'bag_type', 'max_weight'], ['entity', 'Airline', 'PK', 'airline', 'name', 'rating'], ['rel_attr', 'bag_price'], ['rel', 'allows'], ['rel', 'Operated'], ['rel', 'Sold'], ['entity', 'Round Trips', 'PK', 'trip_id', 'Class', 'price', 'origin', 'destination', 'maximum_bags', 'departure_', 'datetime', 'to', 'arrival', 'datetime', 'to', 'duration', 'to', 'departure_', 'datetime', 'from', 'arrival', 'datetime', 'from', 'duration', 'datetime', 'from'], ['rel', 'Operated'], ['rel', 'allows'], ['rel_attr', 'bag_price'], ['rel', 'Sold'], ['entity', 'One way trips', 'PK', 'trip_id', 'Class', 'price', 'origin', 'destination', 'maximum_bags', 'departure_datetime', 'arrival', 'datetime', 'duration'], ['entity', 'One way trips', 'PK', 'trip_id', 'Class', 'origin', 'destination', 'maximum_bags', 'departure_datetime', 'arriua', 'dototin', 'price'], ['entity', 'Round Trips', 'PK', 'trip_id', 'Class', 'origin', 'destination', 'maximum_bags', 'departure_', 'datetime_to', 'arrival', 'datetime', 'to', 'price']]\n",
      "Collec_2\\012.png\n"
     ]
    },
    {
     "name": "stderr",
     "output_type": "stream",
     "text": [
      "CUDA not available - defaulting to CPU. Note: This module is much faster with a GPU.\n"
     ]
    },
    {
     "name": "stdout",
     "output_type": "stream",
     "text": [
      "[['weak_entity', 'Flight', 'PK', 'origin', 'destination', 'departure date-timel', 'arrival date-time', 'duration'], ['ident_rel', 'Sell'], ['ident_rel', 'Operate'], ['ident_rel', 'Departure'], ['ident_rel', 'Sell'], ['weak_entity', 'One-way Trip', 'PK', 'number', 'class', 'price', 'origin', 'destination'], ['ident_rel', 'Return'], ['weak_entity', 'Two-way Trip', 'PK', 'number', 'class', 'price', 'origin', 'destination'], ['ident_rel', 'Allowed bag'], ['ident_rel', 'Allowed', 'bag'], ['ident_rel', 'Departure'], ['entity', 'PK', 'type', 'max weight', 'Bag'], ['entity', 'Sell'], ['rel_attr', 'Price'], ['rel_attr', 'Max number'], ['rel_attr', 'Max number'], ['rel_attr', 'Price'], ['weak_entity', 'Bag', 'PK', 'type', 'max', 'weight'], ['entity', 'Flight', 'PK', 'origin', 'destination', 'departure date-timel', 'arrival date-time', 'duration'], ['weak_entity', 'Airline', 'PK', 'name', 'rating'], ['many'], ['entity', 'Two-way Trip', 'PK', 'number', 'class', 'price', 'origin', 'destination']]\n",
      "Collec_2\\013.png\n",
      "[['rel', 'has'], ['rel', 'operated'], ['entity', 'Airline', 'PK', 'name', 'rating'], ['weak_entity', 'Round-Trip', 'PK', 'number', 'class', 'origin', 'destination', 'maximum number of bags', 'price'], ['rel', 'one-way allowed'], ['rel', 'round-trip allowed'], ['entity', 'Bag Type', 'PK', 'bag_type', 'maximum weight'], ['entity', 'Flight', 'PK', 'flight number', 'departure date-time', 'arrival date-time', 'duration'], ['weak_entity', 'One-Way Trip', 'PK', 'number', 'class', 'price', 'origin', 'destination', 'departure date-time', 'arrival date-time', 'duration', 'maximum number of bags'], ['rel_attr', 'one-way bag type price'], ['ident_rel', 'round-trip sold by'], ['ident_rel', 'one-way sold by'], ['rel_attr', 'round-trip bag type', 'price'], ['weak_entity', 'Flight', 'PK', 'flight number', 'departure date-time', 'arrival date-time', 'duration'], ['entity', 'One-Way Trip', 'PK', 'number', 'class', 'price', 'origin', 'destination', 'departure date-time', 'arrival date-time', 'duration', 'maximum number of bags'], ['entity', 'PK', 'bag_type', 'maximum weight']]\n"
     ]
    }
   ],
   "source": [
    "module2_output = []\n",
    "for x in module1_output:\n",
    "    module2_output.append(module2.read_image(x))"
   ]
  },
  {
   "cell_type": "code",
   "execution_count": 7,
   "metadata": {},
   "outputs": [
    {
     "name": "stdout",
     "output_type": "stream",
     "text": [
      "[[['rel_attr', 'origin'], ['rel_attr', 'price'], ['rel_attr', 'departure', 'date-time'], ['entity', 'PK', 'type', 'max weight', 'bag'], ['entity', 'airline', 'PK', 'name', 'rating'], ['rel_attr', 'max #'], ['rel_attr', 'duration'], ['rel_attr', 'destination'], ['rel_attr', 'arrival date -', 'time'], ['entity', 'trip', 'PK', 'number', 'class', 'price', 'type'], ['rel', 'allows'], ['rel', 'flight'], ['many'], ['rel_attr', '#', 'price'], ['many', 'PDS'], ['many']], [['entity', 'PK', 'type', 'maximum', 'weight', 'Bag'], ['rel', 'Booking airline'], ['rel', 'Includes'], ['rel', 'Includes'], ['rel', 'Operating airline'], ['entity', 'Airline', 'PK', 'name', 'rating'], ['rel', 'Bboking airline'], ['weak_entity', 'Flight', 'PK', 'origin', 'PK', 'destination', 'PK', 'departure_time', 'duration', 'arrival', 'time'], ['entity', 'Two-way Trip', 'PK', 'number', 'class', 'price'], ['rel_attr', 'maximum', 'number'], ['entity', 'One-way Trip', 'PK', 'number', 'class', 'price'], ['ident_rel', 'Contains'], ['ident_rel', 'Contains'], ['rel_attr', 'maximum', 'number'], ['rel_attr', 'price'], ['entity', 'Flight', 'PK', 'origin', 'PK', 'destination', 'PK', 'departure_time', 'duration', 'arrival', 'time'], ['rel_attr', 'price']], [['rel_attr', 'Price'], ['rel', 'Has'], ['rel_attr', 'Maximum', 'Number'], ['entity', 'Trip', 'Number', 'Class', 'Price'], ['entity', 'Airline', 'Name', 'Rating'], ['entity', 'Flight', 'FlightNumber', 'Departure Date-Time', 'Arrival Date-Time', 'Duration'], ['rel', 'Operates'], ['weak_entity', 'Bag', 'NumType', 'MaximumWeight'], ['rel_attr', 'Type'], ['rel', 'Sold By'], ['ident_rel', 'Allows']], [['rel', 'Allowed'], ['rel', 'Sold by'], ['rel', 'Operated by'], ['entity', 'Bag', 'PK', 'type', 'maximum_weight'], ['weak_entity', 'Flight', 'PK,FK', 'number', 'origin_departure_', 'date', 'time', 'destination_arrival', 'date', 'time', 'destination', 'arrival', 'date', 'time', 'origin', 'to', 'destination', 'duration', 'destination_departure', 'date', 'time NULL', 'origin_arrivial_', 'date', 'time NULL', 'destination', 'to_origin__', 'duration NULL'], ['ident_rel', 'Flown on'], ['entity', 'Airline', 'PK', 'name', 'rating'], ['entity', 'Trip', 'PK', 'number', 'type', 'class', 'price'], ['rel_attr', 'price'], ['entity'], ['rel_attr', 'maximum', 'number'], ['entity', 'Airline', 'PK', 'name', 'rating'], ['entity'], ['weak_entity', 'Trip', 'PK', 'number', 'type', 'class', 'price'], ['rel', 'maximum', 'number']], [['rel', 'sold by'], ['rel', 'has'], ['rel', 'operated by'], ['entity', 'trip', 'PK', 'trip_number', 'class', 'origin', 'destination', 'maximun', 'number_bags', 'price'], ['rel', 'allow'], ['entity', 'flight', 'PK', 'fligbt', 'number', 'departure_', 'date', 'time', 'arrival', 'date', 'time', 'duration'], ['entity', 'airline', 'PK', 'company_id', 'name', 'rating'], ['entity', 'Bag_type', 'PKI', 'type', 'name', 'maximum_weight'], ['rel_attr', 'price'], ['entity', 'Bag_type', 'PKI', 'type', 'name', 'maximum', 'weight']], [['rel', 'allows'], ['rel', 'has'], ['entity', 'airline', 'PK', 'name', 'rating'], ['entity', 'bag', 'PK', 'type', 'max_weight', 'price'], ['rel', 'sells by'], ['entity', 'trip', 'PK', 'uid', 'type', 'class', 'price', 'origin', 'destination'], ['rel_attr', 'max', 'number'], ['entity', 'flight', 'PK', 'flight_uid', 'origin', 'destination', 'departure-time', 'arrival-time', 'duration']], [['rel_attr', 'max_bags'], ['entity', 'Airline', 'PK', 'Uniqueld', 'name', 'rating'], ['entity', 'One-way', 'PK', 'Uniqueld', 'departure_date-time', 'arrival', 'date-time', 'duration'], ['rel', 'Can have'], ['rel', 'Sells'], ['rel', 'Provides'], ['rel', 'Uses'], ['entity', 'PK', 'type', 'max', 'weight', 'Bag'], ['entity', 'Flight'], ['entity', 'Round-trip', 'PK', 'Uniqueld'], ['rel', 'Allows'], ['rel_attr', 'price'], ['entity', 'Trip', 'PK', 'Uniqueld', 'class', 'price'], ['rel', 'Contains'], ['rel', 'Can have'], ['rel_attr', 'Flight'], ['entity', 'Bag', 'PK', 'type', 'max_weight']], [['rel', 'Sold by'], ['entity', 'Round-trip', 'PK', 'Unique_ Number', 'Class', 'Price', 'Price', 'Bag'], ['entity', 'One-way Trip', 'PK', 'Unique_Number', 'Class', 'Price', 'Price', 'Bag'], ['rel', 'Sold by'], ['ident_rel', 'Operated by'], ['rel', 'Allowed Bags'], ['entity', 'Airline', 'PK', 'Name', 'Rating'], ['weak_entity', 'Flights', 'Origin', 'Destination', 'Departure Date-time', 'Arrival Date-time', 'Duration'], ['rel', 'Allowed Bags'], ['weak_entity', 'Type', 'Max Weight', 'Bag'], ['ident_rel', 'Has'], ['rel', 'Has'], ['rel_attr', 'Max Bags'], ['rel_attr', 'Max Bags'], ['weak_entity', 'Airline', 'PK', 'Name', 'Rating'], ['ident_rel', 'Has'], ['rel', 'Has'], ['weak_entity', 'Type', 'Max Weight', 'Bag'], ['entity', 'Flights', 'Origin', 'Destination', 'Departure Date-time', 'Arrival Date-time', 'Duration'], ['entity', 'Type', 'Max Weight', 'Bag'], ['rel_attr', 'Type', 'Max Weight', 'Bag'], ['ident_rel', 'Allowed Bags'], ['ident_rel', 'Allowed Bags']], [['entity', 'Bags', 'PK', 'bag_type', 'max_weight'], ['entity', 'Airline', 'PK', 'airline', 'name', 'rating'], ['rel_attr', 'bag_price'], ['rel', 'allows'], ['rel', 'Operated'], ['rel', 'Sold'], ['entity', 'Round Trips', 'PK', 'trip_id', 'Class', 'price', 'origin', 'destination', 'maximum_bags', 'departure_', 'datetime', 'to', 'arrival', 'datetime', 'to', 'duration', 'to', 'departure_', 'datetime', 'from', 'arrival', 'datetime', 'from', 'duration', 'datetime', 'from'], ['rel', 'Operated'], ['rel', 'allows'], ['rel_attr', 'bag_price'], ['rel', 'Sold'], ['entity', 'One way trips', 'PK', 'trip_id', 'Class', 'price', 'origin', 'destination', 'maximum_bags', 'departure_datetime', 'arrival', 'datetime', 'duration'], ['entity', 'One way trips', 'PK', 'trip_id', 'Class', 'origin', 'destination', 'maximum_bags', 'departure_datetime', 'arriua', 'dototin', 'price'], ['entity', 'Round Trips', 'PK', 'trip_id', 'Class', 'origin', 'destination', 'maximum_bags', 'departure_', 'datetime_to', 'arrival', 'datetime', 'to', 'price']], [['weak_entity', 'Flight', 'PK', 'origin', 'destination', 'departure date-timel', 'arrival date-time', 'duration'], ['ident_rel', 'Sell'], ['ident_rel', 'Operate'], ['ident_rel', 'Departure'], ['ident_rel', 'Sell'], ['weak_entity', 'One-way Trip', 'PK', 'number', 'class', 'price', 'origin', 'destination'], ['ident_rel', 'Return'], ['weak_entity', 'Two-way Trip', 'PK', 'number', 'class', 'price', 'origin', 'destination'], ['ident_rel', 'Allowed bag'], ['ident_rel', 'Allowed', 'bag'], ['ident_rel', 'Departure'], ['entity', 'PK', 'type', 'max weight', 'Bag'], ['entity', 'Sell'], ['rel_attr', 'Price'], ['rel_attr', 'Max number'], ['rel_attr', 'Max number'], ['rel_attr', 'Price'], ['weak_entity', 'Bag', 'PK', 'type', 'max', 'weight'], ['entity', 'Flight', 'PK', 'origin', 'destination', 'departure date-timel', 'arrival date-time', 'duration'], ['weak_entity', 'Airline', 'PK', 'name', 'rating'], ['many'], ['entity', 'Two-way Trip', 'PK', 'number', 'class', 'price', 'origin', 'destination']], [['rel', 'has'], ['rel', 'operated'], ['entity', 'Airline', 'PK', 'name', 'rating'], ['weak_entity', 'Round-Trip', 'PK', 'number', 'class', 'origin', 'destination', 'maximum number of bags', 'price'], ['rel', 'one-way allowed'], ['rel', 'round-trip allowed'], ['entity', 'Bag Type', 'PK', 'bag_type', 'maximum weight'], ['entity', 'Flight', 'PK', 'flight number', 'departure date-time', 'arrival date-time', 'duration'], ['weak_entity', 'One-Way Trip', 'PK', 'number', 'class', 'price', 'origin', 'destination', 'departure date-time', 'arrival date-time', 'duration', 'maximum number of bags'], ['rel_attr', 'one-way bag type price'], ['ident_rel', 'round-trip sold by'], ['ident_rel', 'one-way sold by'], ['rel_attr', 'round-trip bag type', 'price'], ['weak_entity', 'Flight', 'PK', 'flight number', 'departure date-time', 'arrival date-time', 'duration'], ['entity', 'One-Way Trip', 'PK', 'number', 'class', 'price', 'origin', 'destination', 'departure date-time', 'arrival date-time', 'duration', 'maximum number of bags'], ['entity', 'PK', 'bag_type', 'maximum weight']]]\n"
     ]
    }
   ],
   "source": [
    "print(module2_output)"
   ]
  },
  {
   "cell_type": "code",
   "execution_count": 11,
   "metadata": {},
   "outputs": [
    {
     "name": "stdout",
     "output_type": "stream",
     "text": [
      "[[['rel_attr', 'origin'], ['rel_attr', 'price'], ['rel_attr', 'departure', 'date-time'], ['entity', 'PK', 'type', 'max weight', 'bag'], ['entity', 'airline', 'PK', 'name', 'rating'], ['rel_attr', 'max #'], ['rel_attr', 'duration'], ['rel_attr', 'destination'], ['rel_attr', 'arrival date -', 'time'], ['entity', 'trip', 'PK', 'number', 'class', 'price', 'type'], ['rel', 'allows'], ['rel', 'flight'], ['many'], ['rel_attr', '#', 'price'], ['many', 'PDS'], ['many']], [['entity', 'PK', 'type', 'maximum', 'weight', 'Bag'], ['rel', 'Booking airline'], ['rel', 'Includes'], ['rel', 'Includes'], ['rel', 'Operating airline'], ['entity', 'Airline', 'PK', 'name', 'rating'], ['rel', 'Bboking airline'], ['weak_entity', 'Flight', 'PK', 'origin', 'PK', 'destination', 'PK', 'departure_time', 'duration', 'arrival', 'time'], ['entity', 'Two-way Trip', 'PK', 'number', 'class', 'price'], ['rel_attr', 'maximum', 'number'], ['entity', 'One-way Trip', 'PK', 'number', 'class', 'price'], ['ident_rel', 'Contains'], ['ident_rel', 'Contains'], ['rel_attr', 'maximum', 'number'], ['rel_attr', 'price'], ['entity', 'Flight', 'PK', 'origin', 'PK', 'destination', 'PK', 'departure_time', 'duration', 'arrival', 'time'], ['rel_attr', 'price']], [['rel_attr', 'Price'], ['rel', 'Has'], ['rel_attr', 'Maximum', 'Number'], ['entity', 'Trip', 'Number', 'Class', 'Price'], ['entity', 'Airline', 'Name', 'Rating'], ['entity', 'Flight', 'FlightNumber', 'Departure Date-Time', 'Arrival Date-Time', 'Duration'], ['rel', 'Operates'], ['weak_entity', 'Bag', 'NumType', 'MaximumWeight'], ['rel_attr', 'Type'], ['rel', 'Sold By'], ['ident_rel', 'Allows']], [['rel', 'Allowed'], ['rel', 'Sold by'], ['rel', 'Operated by'], ['entity', 'Bag', 'PK', 'type', 'maximum_weight'], ['weak_entity', 'Flight', 'PK,FK', 'number', 'origin_departure_', 'date', 'time', 'destination_arrival', 'date', 'time', 'destination', 'arrival', 'date', 'time', 'origin', 'to', 'destination', 'duration', 'destination_departure', 'date', 'time NULL', 'origin_arrivial_', 'date', 'time NULL', 'destination', 'to_origin__', 'duration NULL'], ['ident_rel', 'Flown on'], ['entity', 'Airline', 'PK', 'name', 'rating'], ['entity', 'Trip', 'PK', 'number', 'type', 'class', 'price'], ['rel_attr', 'price'], ['entity'], ['rel_attr', 'maximum', 'number'], ['entity', 'Airline', 'PK', 'name', 'rating'], ['entity'], ['weak_entity', 'Trip', 'PK', 'number', 'type', 'class', 'price'], ['rel', 'maximum', 'number']], [['rel', 'sold by'], ['rel', 'has'], ['rel', 'operated by'], ['entity', 'trip', 'PK', 'trip_number', 'class', 'origin', 'destination', 'maximun', 'number_bags', 'price'], ['rel', 'allow'], ['entity', 'flight', 'PK', 'fligbt', 'number', 'departure_', 'date', 'time', 'arrival', 'date', 'time', 'duration'], ['entity', 'airline', 'PK', 'company_id', 'name', 'rating'], ['entity', 'Bag_type', 'PKI', 'type', 'name', 'maximum_weight'], ['rel_attr', 'price'], ['entity', 'Bag_type', 'PKI', 'type', 'name', 'maximum', 'weight']], [['rel', 'allows'], ['rel', 'has'], ['entity', 'airline', 'PK', 'name', 'rating'], ['entity', 'bag', 'PK', 'type', 'max_weight', 'price'], ['rel', 'sells by'], ['entity', 'trip', 'PK', 'uid', 'type', 'class', 'price', 'origin', 'destination'], ['rel_attr', 'max', 'number'], ['entity', 'flight', 'PK', 'flight_uid', 'origin', 'destination', 'departure-time', 'arrival-time', 'duration']], [['rel_attr', 'max_bags'], ['entity', 'Airline', 'PK', 'Uniqueld', 'name', 'rating'], ['entity', 'One-way', 'PK', 'Uniqueld', 'departure_date-time', 'arrival', 'date-time', 'duration'], ['rel', 'Can have'], ['rel', 'Sells'], ['rel', 'Provides'], ['rel', 'Uses'], ['entity', 'PK', 'type', 'max', 'weight', 'Bag'], ['entity', 'Flight'], ['entity', 'Round-trip', 'PK', 'Uniqueld'], ['rel', 'Allows'], ['rel_attr', 'price'], ['entity', 'Trip', 'PK', 'Uniqueld', 'class', 'price'], ['rel', 'Contains'], ['rel', 'Can have'], ['rel_attr', 'Flight'], ['entity', 'Bag', 'PK', 'type', 'max_weight']], [['rel', 'Sold by'], ['entity', 'Round-trip', 'PK', 'Unique_ Number', 'Class', 'Price', 'Price', 'Bag'], ['entity', 'One-way Trip', 'PK', 'Unique_Number', 'Class', 'Price', 'Price', 'Bag'], ['rel', 'Sold by'], ['ident_rel', 'Operated by'], ['rel', 'Allowed Bags'], ['entity', 'Airline', 'PK', 'Name', 'Rating'], ['weak_entity', 'Flights', 'Origin', 'Destination', 'Departure Date-time', 'Arrival Date-time', 'Duration'], ['rel', 'Allowed Bags'], ['weak_entity', 'Type', 'Max Weight', 'Bag'], ['ident_rel', 'Has'], ['rel', 'Has'], ['rel_attr', 'Max Bags'], ['rel_attr', 'Max Bags'], ['weak_entity', 'Airline', 'PK', 'Name', 'Rating'], ['ident_rel', 'Has'], ['rel', 'Has'], ['weak_entity', 'Type', 'Max Weight', 'Bag'], ['entity', 'Flights', 'Origin', 'Destination', 'Departure Date-time', 'Arrival Date-time', 'Duration'], ['entity', 'Type', 'Max Weight', 'Bag'], ['rel_attr', 'Type', 'Max Weight', 'Bag'], ['ident_rel', 'Allowed Bags'], ['ident_rel', 'Allowed Bags']], [['entity', 'Bags', 'PK', 'bag_type', 'max_weight'], ['entity', 'Airline', 'PK', 'airline', 'name', 'rating'], ['rel_attr', 'bag_price'], ['rel', 'allows'], ['rel', 'Operated'], ['rel', 'Sold'], ['entity', 'Round Trips', 'PK', 'trip_id', 'Class', 'price', 'origin', 'destination', 'maximum_bags', 'departure_', 'datetime', 'to', 'arrival', 'datetime', 'to', 'duration', 'to', 'departure_', 'datetime', 'from', 'arrival', 'datetime', 'from', 'duration', 'datetime', 'from'], ['rel', 'Operated'], ['rel', 'allows'], ['rel_attr', 'bag_price'], ['rel', 'Sold'], ['entity', 'One way trips', 'PK', 'trip_id', 'Class', 'price', 'origin', 'destination', 'maximum_bags', 'departure_datetime', 'arrival', 'datetime', 'duration'], ['entity', 'One way trips', 'PK', 'trip_id', 'Class', 'origin', 'destination', 'maximum_bags', 'departure_datetime', 'arriua', 'dototin', 'price'], ['entity', 'Round Trips', 'PK', 'trip_id', 'Class', 'origin', 'destination', 'maximum_bags', 'departure_', 'datetime_to', 'arrival', 'datetime', 'to', 'price']], [['weak_entity', 'Flight', 'PK', 'origin', 'destination', 'departure date-timel', 'arrival date-time', 'duration'], ['ident_rel', 'Sell'], ['ident_rel', 'Operate'], ['ident_rel', 'Departure'], ['ident_rel', 'Sell'], ['weak_entity', 'One-way Trip', 'PK', 'number', 'class', 'price', 'origin', 'destination'], ['ident_rel', 'Return'], ['weak_entity', 'Two-way Trip', 'PK', 'number', 'class', 'price', 'origin', 'destination'], ['ident_rel', 'Allowed bag'], ['ident_rel', 'Allowed', 'bag'], ['ident_rel', 'Departure'], ['entity', 'PK', 'type', 'max weight', 'Bag'], ['entity', 'Sell'], ['rel_attr', 'Price'], ['rel_attr', 'Max number'], ['rel_attr', 'Max number'], ['rel_attr', 'Price'], ['weak_entity', 'Bag', 'PK', 'type', 'max', 'weight'], ['entity', 'Flight', 'PK', 'origin', 'destination', 'departure date-timel', 'arrival date-time', 'duration'], ['weak_entity', 'Airline', 'PK', 'name', 'rating'], ['many'], ['entity', 'Two-way Trip', 'PK', 'number', 'class', 'price', 'origin', 'destination']], [['rel', 'has'], ['rel', 'operated'], ['entity', 'Airline', 'PK', 'name', 'rating'], ['weak_entity', 'Round-Trip', 'PK', 'number', 'class', 'origin', 'destination', 'maximum number of bags', 'price'], ['rel', 'one-way allowed'], ['rel', 'round-trip allowed'], ['entity', 'Bag Type', 'PK', 'bag_type', 'maximum weight'], ['entity', 'Flight', 'PK', 'flight number', 'departure date-time', 'arrival date-time', 'duration'], ['weak_entity', 'One-Way Trip', 'PK', 'number', 'class', 'price', 'origin', 'destination', 'departure date-time', 'arrival date-time', 'duration', 'maximum number of bags'], ['rel_attr', 'one-way bag type price'], ['ident_rel', 'round-trip sold by'], ['ident_rel', 'one-way sold by'], ['rel_attr', 'round-trip bag type', 'price'], ['weak_entity', 'Flight', 'PK', 'flight number', 'departure date-time', 'arrival date-time', 'duration'], ['entity', 'One-Way Trip', 'PK', 'number', 'class', 'price', 'origin', 'destination', 'departure date-time', 'arrival date-time', 'duration', 'maximum number of bags'], ['entity', 'PK', 'bag_type', 'maximum weight']]]\n"
     ]
    }
   ],
   "source": [
    "from nltk.stem.porter import PorterStemmer\n",
    "import re\n",
    "# seperate words with spaces\n",
    "erds_remove_spaces = []\n",
    "for erd in module2_output:\n",
    "    arr = []\n",
    "    for smallerArray in erd:\n",
    "        for word in smallerArray[1:]:\n",
    "            arr.append(word)\n",
    "    tmp = []\n",
    "    for word in arr:\n",
    "        words = word.split(' ')\n",
    "        for split_word in words:\n",
    "            tmp.append(split_word)\n",
    "    erds_remove_spaces.append(tmp)\n",
    "\n",
    "erds_contents = erds_remove_spaces\n",
    "\n",
    "# seperate words with underscores\n",
    "erds_remove_underscore = []\n",
    "for array in erds_contents:\n",
    "    tmp = []\n",
    "    for word in array:\n",
    "        words = word.split('_')\n",
    "        for split_word in words:\n",
    "            tmp.append(split_word)\n",
    "    erds_remove_underscore.append(tmp)\n",
    "\n",
    "erds_contents = erds_remove_underscore\n",
    "\n",
    "# seperate words with hyphens\n",
    "erds_remove_hyphen = []\n",
    "for array in erds_contents:\n",
    "    tmp = []\n",
    "    for word in array:\n",
    "        words = word.split('-')\n",
    "        for split_word in words:\n",
    "            tmp.append(split_word)\n",
    "    erds_remove_hyphen.append(tmp)\n",
    "\n",
    "erds_contents = erds_remove_hyphen\n",
    "\n",
    "# seperate camel case\n",
    "erds_remove_camel_case = []\n",
    "for array in erds_contents:\n",
    "    tmp = []\n",
    "    for word in array:\n",
    "        words = re.sub('([A-Z][a-z]+)', r' \\1', re.sub('([A-Z]+)', r' \\1', word)).split()\n",
    "        for split_word in words: \n",
    "            tmp.append(split_word)\n",
    "    erds_remove_camel_case.append(tmp)\n",
    "\n",
    "erds_contents = erds_remove_camel_case\n",
    "\n",
    "# remove stopwords\n",
    "#for erd in erds_contents:\n",
    "    #for word in erd:\n",
    "        #if word.lower() in stopwords:\n",
    "            #erd.remove(word)\n",
    "\n",
    "# stem words \n",
    "ps = PorterStemmer()\n",
    "\n",
    "stemmed_erd_content = []\n",
    "\n",
    "for erd in erds_contents:\n",
    "    stemmed_words = [ps.stem(word) for word in erd]\n",
    "    stemmed_erd_content.append(stemmed_words)\n",
    "\n",
    "print(module2_output)"
   ]
  },
  {
   "cell_type": "code",
   "execution_count": 16,
   "metadata": {},
   "outputs": [
    {
     "name": "stdout",
     "output_type": "stream",
     "text": [
      "['origin', 'price', 'departure', 'date-time', 'PK', 'type', 'max weight', 'bag', 'airline', 'name', 'rating', 'max #', 'duration', 'destination', 'arrival date -', 'time', 'trip', 'number', 'class', 'allows', 'flight', '#', 'PDS', 'maximum', 'weight', 'Bag', 'Booking airline', 'Includes', 'Operating airline', 'Airline', 'Bboking airline', 'Flight', 'departure_time', 'arrival', 'Two-way Trip', 'One-way Trip', 'Contains', 'Price', 'Has', 'Maximum', 'Number', 'Trip', 'Class', 'Name', 'Rating', 'FlightNumber', 'Departure Date-Time', 'Arrival Date-Time', 'Duration', 'Operates', 'NumType', 'MaximumWeight', 'Type', 'Sold By', 'Allows', 'Allowed', 'Sold by', 'Operated by', 'maximum_weight', 'PK,FK', 'origin_departure_', 'date', 'destination_arrival', 'to', 'destination_departure', 'time NULL', 'origin_arrivial_', 'to_origin__', 'duration NULL', 'Flown on', 'sold by', 'has', 'operated by', 'trip_number', 'maximun', 'number_bags', 'allow', 'fligbt', 'departure_', 'company_id', 'Bag_type', 'PKI', 'max_weight', 'sells by', 'uid', 'max', 'flight_uid', 'departure-time', 'arrival-time', 'max_bags', 'Uniqueld', 'One-way', 'departure_date-time', 'Can have', 'Sells', 'Provides', 'Uses', 'Round-trip', 'Unique_ Number', 'Unique_Number', 'Allowed Bags', 'Flights', 'Origin', 'Destination', 'Departure Date-time', 'Arrival Date-time', 'Max Weight', 'Max Bags', 'Bags', 'bag_type', 'bag_price', 'Operated', 'Sold', 'Round Trips', 'trip_id', 'maximum_bags', 'datetime', 'from', 'One way trips', 'departure_datetime', 'arriua', 'dototin', 'datetime_to', 'departure date-timel', 'arrival date-time', 'Sell', 'Operate', 'Departure', 'Return', 'Allowed bag', 'Max number', 'operated', 'Round-Trip', 'maximum number of bags', 'one-way allowed', 'round-trip allowed', 'Bag Type', 'maximum weight', 'flight number', 'departure date-time', 'One-Way Trip', 'one-way bag type price', 'round-trip sold by', 'one-way sold by', 'round-trip bag type']\n",
      "[array([0.26516504, 0.        , 0.1767767 , 0.        , 0.70710678,\n",
      "       0.26516504, 0.        , 0.08838835, 0.26516504, 0.08838835,\n",
      "       0.08838835, 0.26516504, 0.1767767 , 0.08838835, 0.08838835,\n",
      "       0.08838835, 0.08838835, 0.08838835, 0.08838835, 0.08838835,\n",
      "       0.08838835, 0.08838835, 0.08838835, 0.08838835, 0.08838835,\n",
      "       0.08838835, 0.08838835, 0.08838835, 0.08838835, 0.08838835,\n",
      "       0.        , 0.        , 0.        , 0.        , 0.        ,\n",
      "       0.        , 0.        , 0.        , 0.        , 0.        ,\n",
      "       0.        , 0.        , 0.        , 0.        , 0.        ,\n",
      "       0.        , 0.        , 0.        , 0.        , 0.        ,\n",
      "       0.        , 0.        , 0.        , 0.        , 0.        ,\n",
      "       0.        , 0.        , 0.        , 0.        , 0.        ,\n",
      "       0.        , 0.        , 0.        , 0.        , 0.        ,\n",
      "       0.        , 0.        , 0.        , 0.        , 0.        ,\n",
      "       0.        , 0.        , 0.        , 0.        , 0.        ,\n",
      "       0.        , 0.        , 0.        , 0.        , 0.        ,\n",
      "       0.        , 0.        , 0.        , 0.        , 0.        ,\n",
      "       0.        , 0.        , 0.        , 0.        , 0.        ,\n",
      "       0.        , 0.        , 0.        , 0.        , 0.        ,\n",
      "       0.        , 0.        , 0.        , 0.        , 0.        ,\n",
      "       0.        , 0.        , 0.        , 0.        , 0.        ,\n",
      "       0.        , 0.        , 0.        , 0.        , 0.        ,\n",
      "       0.        , 0.        , 0.        , 0.        , 0.        ,\n",
      "       0.        , 0.        , 0.        , 0.        , 0.        ,\n",
      "       0.        , 0.        , 0.        , 0.        , 0.        ,\n",
      "       0.        , 0.        , 0.        , 0.        , 0.        ,\n",
      "       0.        , 0.        , 0.        , 0.        , 0.        ,\n",
      "       0.        , 0.        , 0.        , 0.        , 0.        ,\n",
      "       0.        , 0.        , 0.        , 0.        , 0.        ,\n",
      "       0.        , 0.        , 0.        , 0.        , 0.        ,\n",
      "       0.        , 0.        ]), array([0.30831321, 0.06166264, 0.30831321, 0.12332528, 0.24665057,\n",
      "       0.        , 0.        , 0.12332528, 0.24665057, 0.        ,\n",
      "       0.        , 0.61662642, 0.06166264, 0.        , 0.        ,\n",
      "       0.        , 0.06166264, 0.06166264, 0.        , 0.12332528,\n",
      "       0.12332528, 0.        , 0.12332528, 0.        , 0.24665057,\n",
      "       0.12332528, 0.        , 0.        , 0.        , 0.        ,\n",
      "       0.18498792, 0.06166264, 0.06166264, 0.06166264, 0.12332528,\n",
      "       0.06166264, 0.06166264, 0.06166264, 0.12332528, 0.12332528,\n",
      "       0.12332528, 0.06166264, 0.06166264, 0.12332528, 0.        ,\n",
      "       0.        , 0.        , 0.        , 0.        , 0.        ,\n",
      "       0.        , 0.        , 0.        , 0.        , 0.        ,\n",
      "       0.        , 0.        , 0.        , 0.        , 0.        ,\n",
      "       0.        , 0.        , 0.        , 0.        , 0.        ,\n",
      "       0.        , 0.        , 0.        , 0.        , 0.        ,\n",
      "       0.        , 0.        , 0.        , 0.        , 0.        ,\n",
      "       0.        , 0.        , 0.        , 0.        , 0.        ,\n",
      "       0.        , 0.        , 0.        , 0.        , 0.        ,\n",
      "       0.        , 0.        , 0.        , 0.        , 0.        ,\n",
      "       0.        , 0.        , 0.        , 0.        , 0.        ,\n",
      "       0.        , 0.        , 0.        , 0.        , 0.        ,\n",
      "       0.        , 0.        , 0.        , 0.        , 0.        ,\n",
      "       0.        , 0.        , 0.        , 0.        , 0.        ,\n",
      "       0.        , 0.        , 0.        , 0.        , 0.        ,\n",
      "       0.        , 0.        , 0.        , 0.        , 0.        ,\n",
      "       0.        , 0.        , 0.        , 0.        , 0.        ,\n",
      "       0.        , 0.        , 0.        , 0.        , 0.        ,\n",
      "       0.        , 0.        , 0.        , 0.        , 0.        ,\n",
      "       0.        , 0.        , 0.        , 0.        , 0.        ,\n",
      "       0.        , 0.        , 0.        , 0.        , 0.        ,\n",
      "       0.        , 0.        , 0.        , 0.        , 0.        ,\n",
      "       0.        , 0.        ]), array([0.40089186, 0.13363062, 0.40089186, 0.13363062, 0.40089186,\n",
      "       0.        , 0.        , 0.        , 0.        , 0.        ,\n",
      "       0.        , 0.        , 0.        , 0.        , 0.        ,\n",
      "       0.        , 0.        , 0.        , 0.        , 0.        ,\n",
      "       0.        , 0.        , 0.        , 0.        , 0.        ,\n",
      "       0.        , 0.        , 0.        , 0.        , 0.        ,\n",
      "       0.        , 0.        , 0.13363062, 0.        , 0.        ,\n",
      "       0.        , 0.13363062, 0.        , 0.13363062, 0.        ,\n",
      "       0.        , 0.        , 0.        , 0.        , 0.26726124,\n",
      "       0.13363062, 0.13363062, 0.26726124, 0.13363062, 0.13363062,\n",
      "       0.13363062, 0.13363062, 0.13363062, 0.13363062, 0.13363062,\n",
      "       0.13363062, 0.13363062, 0.13363062, 0.13363062, 0.13363062,\n",
      "       0.13363062, 0.13363062, 0.        , 0.        , 0.        ,\n",
      "       0.        , 0.        , 0.        , 0.        , 0.        ,\n",
      "       0.        , 0.        , 0.        , 0.        , 0.        ,\n",
      "       0.        , 0.        , 0.        , 0.        , 0.        ,\n",
      "       0.        , 0.        , 0.        , 0.        , 0.        ,\n",
      "       0.        , 0.        , 0.        , 0.        , 0.        ,\n",
      "       0.        , 0.        , 0.        , 0.        , 0.        ,\n",
      "       0.        , 0.        , 0.        , 0.        , 0.        ,\n",
      "       0.        , 0.        , 0.        , 0.        , 0.        ,\n",
      "       0.        , 0.        , 0.        , 0.        , 0.        ,\n",
      "       0.        , 0.        , 0.        , 0.        , 0.        ,\n",
      "       0.        , 0.        , 0.        , 0.        , 0.        ,\n",
      "       0.        , 0.        , 0.        , 0.        , 0.        ,\n",
      "       0.        , 0.        , 0.        , 0.        , 0.        ,\n",
      "       0.        , 0.        , 0.        , 0.        , 0.        ,\n",
      "       0.        , 0.        , 0.        , 0.        , 0.        ,\n",
      "       0.        , 0.        , 0.        , 0.        , 0.        ,\n",
      "       0.        , 0.        , 0.        , 0.        , 0.        ,\n",
      "       0.        , 0.        ]), array([0.40637128, 0.13545709, 0.27091418, 0.06772855, 0.13545709,\n",
      "       0.        , 0.        , 0.06772855, 0.20318564, 0.        ,\n",
      "       0.        , 0.33864273, 0.20318564, 0.        , 0.        ,\n",
      "       0.        , 0.13545709, 0.13545709, 0.        , 0.06772855,\n",
      "       0.20318564, 0.        , 0.20318564, 0.        , 0.33864273,\n",
      "       0.13545709, 0.        , 0.        , 0.        , 0.        ,\n",
      "       0.13545709, 0.        , 0.06772855, 0.        , 0.        ,\n",
      "       0.        , 0.13545709, 0.        , 0.06772855, 0.        ,\n",
      "       0.06772855, 0.        , 0.        , 0.        , 0.        ,\n",
      "       0.        , 0.        , 0.        , 0.13545709, 0.        ,\n",
      "       0.        , 0.        , 0.        , 0.        , 0.        ,\n",
      "       0.        , 0.        , 0.        , 0.        , 0.        ,\n",
      "       0.        , 0.        , 0.06772855, 0.06772855, 0.06772855,\n",
      "       0.06772855, 0.06772855, 0.06772855, 0.33864273, 0.06772855,\n",
      "       0.06772855, 0.06772855, 0.13545709, 0.06772855, 0.06772855,\n",
      "       0.06772855, 0.06772855, 0.        , 0.        , 0.        ,\n",
      "       0.        , 0.        , 0.        , 0.        , 0.        ,\n",
      "       0.        , 0.        , 0.        , 0.        , 0.        ,\n",
      "       0.        , 0.        , 0.        , 0.        , 0.        ,\n",
      "       0.        , 0.        , 0.        , 0.        , 0.        ,\n",
      "       0.        , 0.        , 0.        , 0.        , 0.        ,\n",
      "       0.        , 0.        , 0.        , 0.        , 0.        ,\n",
      "       0.        , 0.        , 0.        , 0.        , 0.        ,\n",
      "       0.        , 0.        , 0.        , 0.        , 0.        ,\n",
      "       0.        , 0.        , 0.        , 0.        , 0.        ,\n",
      "       0.        , 0.        , 0.        , 0.        , 0.        ,\n",
      "       0.        , 0.        , 0.        , 0.        , 0.        ,\n",
      "       0.        , 0.        , 0.        , 0.        , 0.        ,\n",
      "       0.        , 0.        , 0.        , 0.        , 0.        ,\n",
      "       0.        , 0.        , 0.        , 0.        , 0.        ,\n",
      "       0.        , 0.        ]), array([0.48336824, 0.        , 0.3866946 , 0.        , 0.09667365,\n",
      "       0.        , 0.        , 0.09667365, 0.1933473 , 0.        ,\n",
      "       0.        , 0.29002095, 0.1933473 , 0.        , 0.        ,\n",
      "       0.09667365, 0.29002095, 0.09667365, 0.        , 0.09667365,\n",
      "       0.09667365, 0.        , 0.1933473 , 0.09667365, 0.09667365,\n",
      "       0.09667365, 0.        , 0.09667365, 0.        , 0.        ,\n",
      "       0.09667365, 0.09667365, 0.        , 0.        , 0.        ,\n",
      "       0.        , 0.        , 0.        , 0.        , 0.        ,\n",
      "       0.09667365, 0.        , 0.        , 0.        , 0.        ,\n",
      "       0.        , 0.        , 0.        , 0.        , 0.        ,\n",
      "       0.        , 0.        , 0.        , 0.        , 0.        ,\n",
      "       0.        , 0.        , 0.        , 0.        , 0.        ,\n",
      "       0.        , 0.        , 0.        , 0.        , 0.        ,\n",
      "       0.09667365, 0.        , 0.        , 0.1933473 , 0.        ,\n",
      "       0.        , 0.        , 0.        , 0.        , 0.        ,\n",
      "       0.        , 0.        , 0.09667365, 0.09667365, 0.09667365,\n",
      "       0.09667365, 0.09667365, 0.09667365, 0.09667365, 0.09667365,\n",
      "       0.09667365, 0.09667365, 0.1933473 , 0.1933473 , 0.        ,\n",
      "       0.        , 0.        , 0.        , 0.        , 0.        ,\n",
      "       0.        , 0.        , 0.        , 0.        , 0.        ,\n",
      "       0.        , 0.        , 0.        , 0.        , 0.        ,\n",
      "       0.        , 0.        , 0.        , 0.        , 0.        ,\n",
      "       0.        , 0.        , 0.        , 0.        , 0.        ,\n",
      "       0.        , 0.        , 0.        , 0.        , 0.        ,\n",
      "       0.        , 0.        , 0.        , 0.        , 0.        ,\n",
      "       0.        , 0.        , 0.        , 0.        , 0.        ,\n",
      "       0.        , 0.        , 0.        , 0.        , 0.        ,\n",
      "       0.        , 0.        , 0.        , 0.        , 0.        ,\n",
      "       0.        , 0.        , 0.        , 0.        , 0.        ,\n",
      "       0.        , 0.        , 0.        , 0.        , 0.        ,\n",
      "       0.        , 0.        ]), array([0.45883147, 0.        , 0.3441236 , 0.        , 0.11470787,\n",
      "       0.        , 0.        , 0.22941573, 0.22941573, 0.        ,\n",
      "       0.        , 0.45883147, 0.22941573, 0.        , 0.11470787,\n",
      "       0.11470787, 0.11470787, 0.11470787, 0.        , 0.11470787,\n",
      "       0.22941573, 0.        , 0.        , 0.11470787, 0.11470787,\n",
      "       0.11470787, 0.11470787, 0.11470787, 0.        , 0.        ,\n",
      "       0.        , 0.        , 0.        , 0.        , 0.        ,\n",
      "       0.        , 0.        , 0.        , 0.        , 0.        ,\n",
      "       0.        , 0.        , 0.        , 0.        , 0.        ,\n",
      "       0.        , 0.        , 0.        , 0.        , 0.        ,\n",
      "       0.        , 0.        , 0.        , 0.        , 0.        ,\n",
      "       0.        , 0.        , 0.        , 0.        , 0.        ,\n",
      "       0.        , 0.        , 0.        , 0.        , 0.        ,\n",
      "       0.        , 0.        , 0.        , 0.        , 0.        ,\n",
      "       0.        , 0.        , 0.        , 0.        , 0.        ,\n",
      "       0.        , 0.        , 0.        , 0.11470787, 0.        ,\n",
      "       0.        , 0.        , 0.        , 0.        , 0.        ,\n",
      "       0.        , 0.        , 0.        , 0.        , 0.11470787,\n",
      "       0.11470787, 0.11470787, 0.11470787, 0.11470787, 0.11470787,\n",
      "       0.11470787, 0.        , 0.        , 0.        , 0.        ,\n",
      "       0.        , 0.        , 0.        , 0.        , 0.        ,\n",
      "       0.        , 0.        , 0.        , 0.        , 0.        ,\n",
      "       0.        , 0.        , 0.        , 0.        , 0.        ,\n",
      "       0.        , 0.        , 0.        , 0.        , 0.        ,\n",
      "       0.        , 0.        , 0.        , 0.        , 0.        ,\n",
      "       0.        , 0.        , 0.        , 0.        , 0.        ,\n",
      "       0.        , 0.        , 0.        , 0.        , 0.        ,\n",
      "       0.        , 0.        , 0.        , 0.        , 0.        ,\n",
      "       0.        , 0.        , 0.        , 0.        , 0.        ,\n",
      "       0.        , 0.        , 0.        , 0.        , 0.        ,\n",
      "       0.        , 0.        ]), array([0.49621684, 0.        , 0.49621684, 0.        , 0.21266436,\n",
      "       0.        , 0.        , 0.        , 0.14177624, 0.        ,\n",
      "       0.07088812, 0.42532872, 0.14177624, 0.        , 0.        ,\n",
      "       0.        , 0.07088812, 0.07088812, 0.        , 0.07088812,\n",
      "       0.        , 0.        , 0.        , 0.        , 0.        ,\n",
      "       0.07088812, 0.        , 0.        , 0.        , 0.        ,\n",
      "       0.        , 0.07088812, 0.14177624, 0.        , 0.        ,\n",
      "       0.        , 0.07088812, 0.        , 0.14177624, 0.        ,\n",
      "       0.07088812, 0.        , 0.        , 0.07088812, 0.        ,\n",
      "       0.        , 0.        , 0.        , 0.07088812, 0.        ,\n",
      "       0.        , 0.        , 0.        , 0.        , 0.        ,\n",
      "       0.        , 0.        , 0.        , 0.        , 0.        ,\n",
      "       0.        , 0.07088812, 0.        , 0.        , 0.        ,\n",
      "       0.        , 0.        , 0.        , 0.        , 0.        ,\n",
      "       0.        , 0.        , 0.        , 0.        , 0.        ,\n",
      "       0.        , 0.        , 0.        , 0.        , 0.        ,\n",
      "       0.        , 0.        , 0.        , 0.        , 0.        ,\n",
      "       0.        , 0.        , 0.        , 0.        , 0.07088812,\n",
      "       0.        , 0.        , 0.07088812, 0.        , 0.        ,\n",
      "       0.        , 0.07088812, 0.28355248, 0.07088812, 0.07088812,\n",
      "       0.14177624, 0.07088812, 0.07088812, 0.07088812, 0.07088812,\n",
      "       0.        , 0.        , 0.        , 0.        , 0.        ,\n",
      "       0.        , 0.        , 0.        , 0.        , 0.        ,\n",
      "       0.        , 0.        , 0.        , 0.        , 0.        ,\n",
      "       0.        , 0.        , 0.        , 0.        , 0.        ,\n",
      "       0.        , 0.        , 0.        , 0.        , 0.        ,\n",
      "       0.        , 0.        , 0.        , 0.        , 0.        ,\n",
      "       0.        , 0.        , 0.        , 0.        , 0.        ,\n",
      "       0.        , 0.        , 0.        , 0.        , 0.        ,\n",
      "       0.        , 0.        , 0.        , 0.        , 0.        ,\n",
      "       0.        , 0.        ]), array([0.2906191 , 0.23249528, 0.34874292, 0.2906191 , 0.17437146,\n",
      "       0.        , 0.        , 0.        , 0.        , 0.        ,\n",
      "       0.        , 0.23249528, 0.        , 0.        , 0.        ,\n",
      "       0.        , 0.        , 0.        , 0.        , 0.        ,\n",
      "       0.        , 0.        , 0.        , 0.        , 0.        ,\n",
      "       0.        , 0.        , 0.        , 0.        , 0.        ,\n",
      "       0.        , 0.        , 0.34874292, 0.        , 0.        ,\n",
      "       0.        , 0.11624764, 0.        , 0.        , 0.        ,\n",
      "       0.        , 0.        , 0.05812382, 0.        , 0.23249528,\n",
      "       0.23249528, 0.        , 0.        , 0.        , 0.11624764,\n",
      "       0.11624764, 0.11624764, 0.        , 0.        , 0.        ,\n",
      "       0.11624764, 0.        , 0.        , 0.        , 0.23249528,\n",
      "       0.        , 0.        , 0.        , 0.11624764, 0.05812382,\n",
      "       0.        , 0.        , 0.        , 0.        , 0.        ,\n",
      "       0.        , 0.        , 0.        , 0.        , 0.        ,\n",
      "       0.        , 0.        , 0.        , 0.        , 0.        ,\n",
      "       0.        , 0.        , 0.        , 0.        , 0.        ,\n",
      "       0.        , 0.        , 0.        , 0.        , 0.        ,\n",
      "       0.        , 0.        , 0.        , 0.        , 0.        ,\n",
      "       0.        , 0.        , 0.        , 0.        , 0.        ,\n",
      "       0.        , 0.        , 0.        , 0.        , 0.05812382,\n",
      "       0.05812382, 0.05812382, 0.23249528, 0.11624764, 0.11624764,\n",
      "       0.11624764, 0.11624764, 0.11624764, 0.23249528, 0.11624764,\n",
      "       0.        , 0.        , 0.        , 0.        , 0.        ,\n",
      "       0.        , 0.        , 0.        , 0.        , 0.        ,\n",
      "       0.        , 0.        , 0.        , 0.        , 0.        ,\n",
      "       0.        , 0.        , 0.        , 0.        , 0.        ,\n",
      "       0.        , 0.        , 0.        , 0.        , 0.        ,\n",
      "       0.        , 0.        , 0.        , 0.        , 0.        ,\n",
      "       0.        , 0.        , 0.        , 0.        , 0.        ,\n",
      "       0.        , 0.        ]), array([0.3188964, 0.       , 0.3188964, 0.       , 0.1062988, 0.       ,\n",
      "       0.       , 0.2125976, 0.2125976, 0.       , 0.       , 0.3188964,\n",
      "       0.       , 0.       , 0.       , 0.0531494, 0.0531494, 0.0531494,\n",
      "       0.       , 0.1594482, 0.2125976, 0.       , 0.       , 0.       ,\n",
      "       0.       , 0.       , 0.1062988, 0.       , 0.       , 0.       ,\n",
      "       0.       , 0.       , 0.       , 0.       , 0.       , 0.       ,\n",
      "       0.0531494, 0.       , 0.       , 0.       , 0.2125976, 0.       ,\n",
      "       0.       , 0.       , 0.       , 0.       , 0.       , 0.       ,\n",
      "       0.       , 0.2125976, 0.       , 0.       , 0.       , 0.       ,\n",
      "       0.       , 0.       , 0.       , 0.       , 0.       , 0.       ,\n",
      "       0.       , 0.       , 0.       , 0.       , 0.       , 0.       ,\n",
      "       0.       , 0.       , 0.       , 0.       , 0.2125976, 0.       ,\n",
      "       0.       , 0.       , 0.       , 0.       , 0.       , 0.       ,\n",
      "       0.       , 0.       , 0.       , 0.       , 0.       , 0.       ,\n",
      "       0.       , 0.1594482, 0.       , 0.       , 0.       , 0.0531494,\n",
      "       0.       , 0.       , 0.       , 0.       , 0.       , 0.       ,\n",
      "       0.       , 0.       , 0.       , 0.       , 0.       , 0.       ,\n",
      "       0.       , 0.       , 0.       , 0.       , 0.       , 0.       ,\n",
      "       0.       , 0.       , 0.       , 0.       , 0.       , 0.       ,\n",
      "       0.       , 0.0531494, 0.0531494, 0.1062988, 0.1062988, 0.1062988,\n",
      "       0.1062988, 0.2125976, 0.2125976, 0.3720458, 0.1594482, 0.1062988,\n",
      "       0.1062988, 0.0531494, 0.0531494, 0.0531494, 0.       , 0.       ,\n",
      "       0.       , 0.       , 0.       , 0.       , 0.       , 0.       ,\n",
      "       0.       , 0.       , 0.       , 0.       , 0.       , 0.       ,\n",
      "       0.       , 0.       , 0.       , 0.       , 0.       , 0.       ,\n",
      "       0.       , 0.       ]), array([0.22222222, 0.27777778, 0.        , 0.44444444, 0.22222222,\n",
      "       0.05555556, 0.        , 0.27777778, 0.16666667, 0.        ,\n",
      "       0.        , 0.44444444, 0.11111111, 0.05555556, 0.05555556,\n",
      "       0.        , 0.05555556, 0.05555556, 0.        , 0.11111111,\n",
      "       0.27777778, 0.        , 0.        , 0.        , 0.16666667,\n",
      "       0.16666667, 0.        , 0.        , 0.        , 0.        ,\n",
      "       0.        , 0.05555556, 0.11111111, 0.        , 0.        ,\n",
      "       0.        , 0.05555556, 0.        , 0.11111111, 0.        ,\n",
      "       0.        , 0.11111111, 0.05555556, 0.        , 0.11111111,\n",
      "       0.        , 0.        , 0.        , 0.        , 0.        ,\n",
      "       0.        , 0.        , 0.        , 0.        , 0.        ,\n",
      "       0.        , 0.        , 0.        , 0.        , 0.        ,\n",
      "       0.        , 0.        , 0.05555556, 0.        , 0.        ,\n",
      "       0.        , 0.        , 0.        , 0.        , 0.        ,\n",
      "       0.        , 0.        , 0.        , 0.        , 0.        ,\n",
      "       0.        , 0.        , 0.        , 0.        , 0.        ,\n",
      "       0.        , 0.        , 0.        , 0.        , 0.        ,\n",
      "       0.        , 0.        , 0.        , 0.        , 0.        ,\n",
      "       0.        , 0.        , 0.05555556, 0.        , 0.        ,\n",
      "       0.        , 0.        , 0.        , 0.        , 0.        ,\n",
      "       0.        , 0.        , 0.        , 0.        , 0.        ,\n",
      "       0.        , 0.        , 0.        , 0.        , 0.        ,\n",
      "       0.        , 0.        , 0.        , 0.        , 0.        ,\n",
      "       0.        , 0.        , 0.        , 0.        , 0.        ,\n",
      "       0.        , 0.        , 0.        , 0.        , 0.        ,\n",
      "       0.        , 0.        , 0.        , 0.        , 0.        ,\n",
      "       0.11111111, 0.11111111, 0.16666667, 0.05555556, 0.11111111,\n",
      "       0.05555556, 0.05555556, 0.11111111, 0.        , 0.        ,\n",
      "       0.        , 0.        , 0.        , 0.        , 0.        ,\n",
      "       0.        , 0.        , 0.        , 0.        , 0.        ,\n",
      "       0.        , 0.        ]), array([0.30772873, 0.18463724, 0.24618298, 0.12309149, 0.12309149,\n",
      "       0.        , 0.        , 0.18463724, 0.24618298, 0.        ,\n",
      "       0.        , 0.49236596, 0.        , 0.        , 0.        ,\n",
      "       0.        , 0.06154575, 0.06154575, 0.        , 0.24618298,\n",
      "       0.18463724, 0.        , 0.        , 0.        , 0.18463724,\n",
      "       0.18463724, 0.        , 0.        , 0.        , 0.        ,\n",
      "       0.        , 0.        , 0.        , 0.        , 0.        ,\n",
      "       0.        , 0.06154575, 0.        , 0.12309149, 0.        ,\n",
      "       0.        , 0.        , 0.        , 0.        , 0.        ,\n",
      "       0.        , 0.        , 0.        , 0.        , 0.        ,\n",
      "       0.        , 0.        , 0.        , 0.        , 0.        ,\n",
      "       0.        , 0.        , 0.        , 0.        , 0.        ,\n",
      "       0.        , 0.        , 0.        , 0.        , 0.        ,\n",
      "       0.        , 0.        , 0.        , 0.        , 0.        ,\n",
      "       0.        , 0.        , 0.        , 0.        , 0.        ,\n",
      "       0.        , 0.        , 0.        , 0.06154575, 0.        ,\n",
      "       0.        , 0.        , 0.        , 0.        , 0.        ,\n",
      "       0.        , 0.        , 0.        , 0.        , 0.        ,\n",
      "       0.        , 0.        , 0.        , 0.        , 0.        ,\n",
      "       0.        , 0.        , 0.        , 0.        , 0.        ,\n",
      "       0.        , 0.        , 0.        , 0.        , 0.        ,\n",
      "       0.        , 0.        , 0.        , 0.        , 0.        ,\n",
      "       0.        , 0.        , 0.        , 0.        , 0.        ,\n",
      "       0.        , 0.12309149, 0.        , 0.        , 0.        ,\n",
      "       0.        , 0.        , 0.        , 0.        , 0.        ,\n",
      "       0.        , 0.        , 0.        , 0.        , 0.        ,\n",
      "       0.        , 0.24618298, 0.        , 0.        , 0.        ,\n",
      "       0.        , 0.        , 0.        , 0.06154575, 0.06154575,\n",
      "       0.18463724, 0.06154575, 0.06154575, 0.06154575, 0.12309149,\n",
      "       0.12309149, 0.24618298, 0.12309149, 0.06154575, 0.06154575,\n",
      "       0.06154575, 0.06154575])]\n",
      "0.11573711057906494\n"
     ]
    }
   ],
   "source": [
    "module5a.cluster_erds(module2_output, 4)"
   ]
  }
 ],
 "metadata": {
  "kernelspec": {
   "display_name": "Python 3.9.1 64-bit",
   "language": "python",
   "name": "python3"
  },
  "language_info": {
   "codemirror_mode": {
    "name": "ipython",
    "version": 3
   },
   "file_extension": ".py",
   "mimetype": "text/x-python",
   "name": "python",
   "nbconvert_exporter": "python",
   "pygments_lexer": "ipython3",
   "version": "3.9.1"
  },
  "orig_nbformat": 2,
  "vscode": {
   "interpreter": {
    "hash": "81794d4967e6c3204c66dcd87b604927b115b27c00565d3d43f05ba2f3a2cb0d"
   }
  }
 },
 "nbformat": 4,
 "nbformat_minor": 2
}
