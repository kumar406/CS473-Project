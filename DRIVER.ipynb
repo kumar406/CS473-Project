{
 "metadata": {
  "language_info": {
   "codemirror_mode": {
    "name": "ipython",
    "version": 3
   },
   "file_extension": ".py",
   "mimetype": "text/x-python",
   "name": "python",
   "nbconvert_exporter": "python",
   "pygments_lexer": "ipython3",
   "version": "3.9.1-final"
  },
  "orig_nbformat": 2,
  "kernelspec": {
   "name": "python3",
   "display_name": "Python 3.9.1 64-bit",
   "metadata": {
    "interpreter": {
     "hash": "63fd5069d213b44bf678585dea6b12cceca9941eaf7f819626cde1f2670de90d"
    }
   }
  }
 },
 "nbformat": 4,
 "nbformat_minor": 2,
 "cells": [
  {
   "cell_type": "code",
   "execution_count": 1,
   "metadata": {},
   "outputs": [],
   "source": [
    "#IMPORTS \n",
    "import module1\n",
    "import module2 \n",
    "# PATHS\n",
    "LABEL_MAP_PATH = 'Tensorflow\\\\workspace\\\\annotations\\\\label_map.pbtxt'\n",
    "CHECKPOINT_PATH = 'Tensorflow\\\\workspace\\\\models\\\\bingus_model\\\\ckpt-4'\n",
    "PIPELINE_CONFIG_PATH = 'Tensorflow\\\\workspace\\\\models\\\\bingus_model\\\\pipeline.config'"
   ]
  },
  {
   "cell_type": "code",
   "execution_count": 2,
   "metadata": {},
   "outputs": [],
   "source": [
    "# Load model from module1\n",
    "model = module1.load_model(PIPELINE_CONFIG_PATH, CHECKPOINT_PATH)"
   ]
  },
  {
   "cell_type": "code",
   "execution_count": 3,
   "metadata": {},
   "outputs": [],
   "source": [
    "# Set Image path to be detected\n",
    "img = 'Tensorflow\\\\workspace\\\\images\\\\test\\\\110.png'"
   ]
  },
  {
   "cell_type": "code",
   "execution_count": 4,
   "metadata": {},
   "outputs": [
    {
     "output_type": "stream",
     "name": "stdout",
     "text": [
      "1/1\n"
     ]
    }
   ],
   "source": [
    "module1_output = module1.label_images([img], LABEL_MAP_PATH, model)"
   ]
  },
  {
   "cell_type": "code",
   "execution_count": 7,
   "metadata": {},
   "outputs": [
    {
     "output_type": "stream",
     "name": "stdout",
     "text": [
      "{'img': 'Tensorflow\\\\workspace\\\\images\\\\test\\\\110.png', 'labels': [{'label': {'id': 3, 'name': 'rel'}, 'box_norm': array([0.43824703, 0.41720623, 0.5775799 , 0.5425698 ], dtype=float32), 'box': array([ 773, 1593, 1018, 2072]), 'score': 0.99421114}, {'label': {'id': 1, 'name': 'entity'}, 'box_norm': array([0.        , 0.3701775 , 0.36916012, 0.6272964 ], dtype=float32), 'box': array([   0, 1414,  651, 2396]), 'score': 0.9936568}, {'label': {'id': 3, 'name': 'rel'}, 'box_norm': array([0.03292408, 0.21814719, 0.16734695, 0.34571692], dtype=float32), 'box': array([  58,  833,  295, 1320]), 'score': 0.99266666}, {'label': {'id': 3, 'name': 'rel'}, 'box_norm': array([0.8016169 , 0.39198196, 0.9586301 , 0.5374013 ], dtype=float32), 'box': array([1414, 1497, 1691, 2052]), 'score': 0.9909662}, {'label': {'id': 1, 'name': 'entity'}, 'box_norm': array([0.27778032, 0.002736  , 0.7902849 , 0.25589988], dtype=float32), 'box': array([ 490,   10, 1394,  977]), 'score': 0.989134}, {'label': {'id': 3, 'name': 'rel'}, 'box_norm': array([0.03168968, 0.65816694, 0.17212266, 0.7855497 ], dtype=float32), 'box': array([  55, 2514,  303, 3000]), 'score': 0.98225397}, {'label': {'id': 1, 'name': 'entity'}, 'box_norm': array([0.3983488, 0.7408758, 0.6080718, 1.       ], dtype=float32), 'box': array([ 702, 2830, 1072, 3820]), 'score': 0.97994417}, {'label': {'id': 2, 'name': 'weak_entity'}, 'box_norm': array([0.76961327, 0.6065664 , 0.984624  , 0.8773991 ], dtype=float32), 'box': array([1357, 2317, 1736, 3351]), 'score': 0.9141684}, {'label': {'id': 1, 'name': 'entity'}, 'box_norm': array([0.76956284, 0.60632616, 0.983237  , 0.8709249 ], dtype=float32), 'box': array([1357, 2316, 1734, 3326]), 'score': 0.4910129}, {'label': {'id': 1, 'name': 'entity'}, 'box_norm': array([0.23741356, 0.        , 0.35724053, 0.25868222], dtype=float32), 'box': array([418,   0, 630, 988]), 'score': 0.39984587}, {'label': {'id': 1, 'name': 'entity'}, 'box_norm': array([0.26728418, 0.01075818, 0.38652036, 0.23253429], dtype=float32), 'box': array([471,  41, 681, 888]), 'score': 0.39837205}]}\n"
     ]
    }
   ],
   "source": [
    "print(module1_output[0])"
   ]
  },
  {
   "source": [
    "module2_output = module2.read_image(module1_output[0])"
   ],
   "cell_type": "code",
   "metadata": {},
   "execution_count": 5,
   "outputs": [
    {
     "output_type": "stream",
     "name": "stdout",
     "text": [
      "Tensorflow\\workspace\\images\\test\\110.png\n",
      "[['rel', 'airline', 'name'], ['entity', 'Flights', '2', 'PK', 'flight_id', 'origin', 'destination', 'arrival', 'date-time', 'departure_date-time', 'duration'], ['rel', 'flight'], ['rel', 'trip_number', 'bag_type'], ['entity', 'PK', 'trip', 'number', 'class', 'type', 'origin', 'destination', 'total_bags', 'duration', 'price'], ['rel', 'airline', 'name'], ['entity', 'Airline', 'PK', 'Name', 'rating'], ['weak_entity', 'bags', 'PK', 'trip', 'bag_type_', 'numbeEntity', 'price'], ['entity', 'bags', 'PK', 'trip_', 'bag_type', 'numberEntity', 'price'], ['entity', 'Trip', 'PK', 'trip', 'number'], ['entity', 'rip', 'PK', 'trip_number']]\n"
     ]
    }
   ]
  },
  {
   "cell_type": "code",
   "execution_count": 6,
   "metadata": {},
   "outputs": [
    {
     "output_type": "stream",
     "name": "stdout",
     "text": [
      "[['rel', 'airline', 'name'], ['entity', 'Flights', '2', 'PK', 'flight_id', 'origin', 'destination', 'arrival', 'date-time', 'departure_date-time', 'duration'], ['rel', 'flight'], ['rel', 'trip_number', 'bag_type'], ['entity', 'PK', 'trip', 'number', 'class', 'type', 'origin', 'destination', 'total_bags', 'duration', 'price'], ['rel', 'airline', 'name'], ['entity', 'Airline', 'PK', 'Name', 'rating'], ['weak_entity', 'bags', 'PK', 'trip', 'bag_type_', 'numbeEntity', 'price'], ['entity', 'bags', 'PK', 'trip_', 'bag_type', 'numberEntity', 'price'], ['entity', 'Trip', 'PK', 'trip', 'number'], ['entity', 'rip', 'PK', 'trip_number']]\n"
     ]
    }
   ],
   "source": [
    "print(module2_output)"
   ]
  },
  {
   "cell_type": "code",
   "execution_count": null,
   "metadata": {},
   "outputs": [],
   "source": []
  }
 ]
}