{
 "cells": [
  {
   "cell_type": "code",
   "execution_count": 1,
   "metadata": {},
   "outputs": [],
   "source": [
    "#IMPORTS \n",
    "import module1\n",
    "import module2\n",
    "import module4\n",
    "import module5\n",
    "import pickle\n",
    "# PATHS\n",
    "LABEL_MAP_PATH = 'Tensorflow\\\\workspace\\\\annotations\\\\label_map.pbtxt'\n",
    "CHECKPOINT_PATH = 'Tensorflow\\\\workspace\\\\models\\\\bingus_model\\\\ckpt-4'\n",
    "PIPELINE_CONFIG_PATH = 'Tensorflow\\\\workspace\\\\models\\\\bingus_model\\\\pipeline.config'\n",
    "\n",
    "#STOPWORDS FILE\n",
    "STOPWORDS_FILE = 'stopwords.txt'\n",
    "\n",
    "#PARAMETERS FILE\n",
    "PARAMETERS_FILE = 'parameters.txt'\n",
    "\n",
    "dir_path = './Collec_2'\n",
    "img_list = os.listdir(dir_path)\n",
    "full_img_list = [dir_path + '\\\\' + x for x in img_list]"
   ]
  },
  {
   "cell_type": "code",
   "execution_count": 2,
   "metadata": {},
   "outputs": [],
   "source": [
    "# Load model from module1\n",
    "model = module1.load_model(PIPELINE_CONFIG_PATH, CHECKPOINT_PATH)"
   ]
  },
  {
   "cell_type": "code",
   "execution_count": 3,
   "metadata": {},
   "outputs": [
    {
     "output_type": "stream",
     "name": "stdout",
     "text": [
      "1/11\n",
      "2/11\n",
      "3/11\n",
      "4/11\n",
      "5/11\n",
      "6/11\n",
      "7/11\n",
      "8/11\n",
      "9/11\n",
      "10/11\n",
      "11/11\n"
     ]
    }
   ],
   "source": [
    "module1_output = module1.label_images(full_img_list, LABEL_MAP_PATH, model)"
   ]
  },
  {
   "cell_type": "code",
   "execution_count": 4,
   "metadata": {},
   "outputs": [],
   "source": [
    "with open('module1_output.pkl', 'wb') as f:\n",
    "    pickle.dump(module1_output, f)"
   ]
  },
  {
   "cell_type": "code",
   "execution_count": 5,
   "metadata": {},
   "outputs": [],
   "source": [
    "### IF CUDA OUT OF MEM ERROR AFTER THIS CELL, RESTART KERNEL, RUN ONLY FIRST CELL THEN CONTINUE FROM HERE\n",
    "with open('module1_output.pkl', 'rb') as f:\n",
    "    module1_output = pickle.load(f)"
   ]
  },
  {
   "cell_type": "code",
   "execution_count": 6,
   "metadata": {},
   "outputs": [
    {
     "output_type": "stream",
     "name": "stdout",
     "text": [
      "./Collec_2\\001.png\n",
      "./Collec_2\\004.png\n",
      "./Collec_2\\005.png\n",
      "./Collec_2\\006.png\n",
      "./Collec_2\\007.png\n",
      "./Collec_2\\008.png\n",
      "./Collec_2\\009.png\n",
      "./Collec_2\\010.png\n",
      "./Collec_2\\011.png\n",
      "./Collec_2\\012.png\n",
      "./Collec_2\\013.png\n"
     ]
    }
   ],
   "source": [
    "t = module2.read_images(module1_output)"
   ]
  },
  {
   "cell_type": "code",
   "execution_count": 7,
   "metadata": {},
   "outputs": [],
   "source": [
    "with open('module2_output.pkl', 'wb') as f:\n",
    "    pickle.dump(t, f)"
   ]
  },
  {
   "cell_type": "code",
   "execution_count": 8,
   "metadata": {},
   "outputs": [],
   "source": [
    "with open('module2_output.pkl', 'rb') as f:\n",
    "    t = pickle.load(f)"
   ]
  },
  {
   "cell_type": "code",
   "execution_count": 11,
   "metadata": {},
   "outputs": [
    {
     "output_type": "stream",
     "name": "stdout",
     "text": [
      "0.08577797041078333\n"
     ]
    }
   ],
   "source": [
    "module4_output, image_words_output = module4.module4(STOPWORDS_FILE, PARAMETERS_FILE, t)\n",
    "\n",
    "with open(\"base_line_clusters.txt\", \"w\") as f:\n",
    "    for key,values in module4_output.items():\n",
    "        f.write(str(values) + \"\\n\")"
   ]
  },
  {
   "cell_type": "code",
   "execution_count": 12,
   "metadata": {},
   "outputs": [
    {
     "output_type": "stream",
     "name": "stdout",
     "text": [
      "0.08351105897454278\n"
     ]
    }
   ],
   "source": [
    "module5_output = module5.module5(STOPWORDS_FILE, PARAMETERS_FILE, t, module1_output)\n",
    "\n",
    "with open(\"advanced_clusters.txt\", \"w\") as f:\n",
    "    for key,values in module5_output.items():\n",
    "        f.write(str(values) + \"\\n\")"
   ]
  },
  {
   "cell_type": "code",
   "execution_count": null,
   "metadata": {},
   "outputs": [],
   "source": []
  }
 ],
 "metadata": {
  "kernelspec": {
   "name": "python3",
   "display_name": "Python 3.9.1 64-bit",
   "metadata": {
    "interpreter": {
     "hash": "63fd5069d213b44bf678585dea6b12cceca9941eaf7f819626cde1f2670de90d"
    }
   }
  },
  "language_info": {
   "codemirror_mode": {
    "name": "ipython",
    "version": 3
   },
   "file_extension": ".py",
   "mimetype": "text/x-python",
   "name": "python",
   "nbconvert_exporter": "python",
   "pygments_lexer": "ipython3",
   "version": "3.9.1-final"
  },
  "orig_nbformat": 2
 },
 "nbformat": 4,
 "nbformat_minor": 2
}