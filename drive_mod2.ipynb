{
 "metadata": {
  "language_info": {
   "codemirror_mode": {
    "name": "ipython",
    "version": 3
   },
   "file_extension": ".py",
   "mimetype": "text/x-python",
   "name": "python",
   "nbconvert_exporter": "python",
   "pygments_lexer": "ipython3",
   "version": "3.9.1-final"
  },
  "orig_nbformat": 2,
  "kernelspec": {
   "name": "python3",
   "display_name": "Python 3.9.1 64-bit",
   "metadata": {
    "interpreter": {
     "hash": "63fd5069d213b44bf678585dea6b12cceca9941eaf7f819626cde1f2670de90d"
    }
   }
  }
 },
 "nbformat": 4,
 "nbformat_minor": 2,
 "cells": [
  {
   "cell_type": "code",
   "execution_count": 1,
   "metadata": {},
   "outputs": [],
   "source": [
    "import module2"
   ]
  },
  {
   "cell_type": "code",
   "execution_count": 2,
   "metadata": {},
   "outputs": [],
   "source": [
    "import pickle"
   ]
  },
  {
   "cell_type": "code",
   "execution_count": 3,
   "metadata": {},
   "outputs": [],
   "source": [
    "with open('all_images_detections.pickle', 'rb') as f:\n",
    "    input = pickle.load(f)"
   ]
  },
  {
   "cell_type": "code",
   "execution_count": 5,
   "metadata": {
    "tags": []
   },
   "outputs": [
    {
     "output_type": "error",
     "ename": "AttributeError",
     "evalue": "module 'module2' has no attribute 'module2'",
     "traceback": [
      "\u001b[1;31m---------------------------------------------------------------------------\u001b[0m",
      "\u001b[1;31mAttributeError\u001b[0m                            Traceback (most recent call last)",
      "Cell \u001b[1;32mIn [5], line 1\u001b[0m\n\u001b[1;32m----> 1\u001b[0m output \u001b[38;5;241m=\u001b[39m \u001b[43mmodule2\u001b[49m\u001b[38;5;241;43m.\u001b[39;49m\u001b[43mmodule2\u001b[49m(\u001b[38;5;28minput\u001b[39m[\u001b[38;5;241m0\u001b[39m])\n",
      "\u001b[1;31mAttributeError\u001b[0m: module 'module2' has no attribute 'module2'"
     ]
    }
   ],
   "source": [
    "output = module2.read_image(input[0])"
   ]
  },
  {
   "cell_type": "code",
   "execution_count": 9,
   "metadata": {},
   "outputs": [
    {
     "output_type": "stream",
     "name": "stdout",
     "text": [
      "1808\n"
     ]
    }
   ],
   "source": [
    "print(len(output))"
   ]
  },
  {
   "cell_type": "code",
   "execution_count": 14,
   "metadata": {},
   "outputs": [
    {
     "output_type": "execute_result",
     "data": {
      "text/plain": [
       "{'img': 'C:/Users/hmsha/cs473/CS473-Project/Collection_1/001.png',\n",
       " 'labels': [{'label': {'id': 5, 'name': 'rel_attr'},\n",
       "   'box_norm': array([0.        , 0.20313245, 0.16594179, 0.29826516], dtype=float32),\n",
       "   'box': array([   0,  742,  187, 1090]),\n",
       "   'score': 0.9625791},\n",
       "  {'label': {'id': 5, 'name': 'rel_attr'},\n",
       "   'box_norm': array([0.00166017, 0.7149604 , 0.15913717, 0.82368773], dtype=float32),\n",
       "   'box': array([   1, 2613,  180, 3011]),\n",
       "   'score': 0.95078623},\n",
       "  {'label': {'id': 5, 'name': 'rel_attr'},\n",
       "   'box_norm': array([0.6385127 , 0.20523691, 0.8042899 , 0.30192268], dtype=float32),\n",
       "   'box': array([ 722,  750,  910, 1103]),\n",
       "   'score': 0.9477001},\n",
       "  {'label': {'id': 1, 'name': 'entity'},\n",
       "   'box_norm': array([0.268588  , 0.80274224, 0.58017814, 0.9919542 ], dtype=float32),\n",
       "   'box': array([ 304, 2934,  656, 3626]),\n",
       "   'score': 0.9406292},\n",
       "  {'label': {'id': 1, 'name': 'entity'},\n",
       "   'box_norm': array([0.26747876, 0.        , 0.5864289 , 0.18572804], dtype=float32),\n",
       "   'box': array([302,   0, 663, 679]),\n",
       "   'score': 0.9403355},\n",
       "  {'label': {'id': 5, 'name': 'rel_attr'},\n",
       "   'box_norm': array([0.        , 0.6234205 , 0.16085365, 0.7245803 ], dtype=float32),\n",
       "   'box': array([   0, 2279,  182, 2649]),\n",
       "   'score': 0.93981236},\n",
       "  {'label': {'id': 5, 'name': 'rel_attr'},\n",
       "   'box_norm': array([0.642424  , 0.33200034, 0.8108314 , 0.42754367], dtype=float32),\n",
       "   'box': array([ 727, 1213,  917, 1563]),\n",
       "   'score': 0.93840134},\n",
       "  {'label': {'id': 5, 'name': 'rel_attr'},\n",
       "   'box_norm': array([0.        , 0.33653086, 0.15927996, 0.42830455], dtype=float32),\n",
       "   'box': array([   0, 1230,  180, 1565]),\n",
       "   'score': 0.92954785},\n",
       "  {'label': {'id': 5, 'name': 'rel_attr'},\n",
       "   'box_norm': array([0.8326691 , 0.27288023, 0.9995839 , 0.36272457], dtype=float32),\n",
       "   'box': array([ 942,  997, 1131, 1326]),\n",
       "   'score': 0.9163077},\n",
       "  {'label': {'id': 1, 'name': 'entity'},\n",
       "   'box_norm': array([0.26529405, 0.44200063, 0.8028202 , 0.6329268 ], dtype=float32),\n",
       "   'box': array([ 300, 1615,  908, 2313]),\n",
       "   'score': 0.85303605},\n",
       "  {'label': {'id': 3, 'name': 'rel'},\n",
       "   'box_norm': array([0.28707704, 0.6809797 , 0.57264733, 0.77351665], dtype=float32),\n",
       "   'box': array([ 324, 2489,  648, 2827]),\n",
       "   'score': 0.7123392},\n",
       "  {'label': {'id': 3, 'name': 'rel'},\n",
       "   'box_norm': array([0.29434237, 0.27107793, 0.5651566 , 0.36408693], dtype=float32),\n",
       "   'box': array([ 333,  991,  639, 1331]),\n",
       "   'score': 0.5789777},\n",
       "  {'label': {'id': 6, 'name': 'many'},\n",
       "   'box_norm': array([0.4040834 , 0.18738417, 0.47985646, 0.26986858], dtype=float32),\n",
       "   'box': array([457, 685, 543, 986]),\n",
       "   'score': 0.4939775},\n",
       "  {'label': {'id': 5, 'name': 'rel_attr'},\n",
       "   'box_norm': array([0.00609671, 0.6807677 , 0.15040204, 0.8038247 ], dtype=float32),\n",
       "   'box': array([   6, 2488,  170, 2938]),\n",
       "   'score': 0.4718515},\n",
       "  {'label': {'id': 6, 'name': 'many'},\n",
       "   'box_norm': array([0.40488705, 0.3615377 , 0.4837273 , 0.46310234], dtype=float32),\n",
       "   'box': array([ 458, 1321,  547, 1693]),\n",
       "   'score': 0.43518588},\n",
       "  {'label': {'id': 6, 'name': 'many'},\n",
       "   'box_norm': array([0.42026645, 0.2070136 , 0.4979391 , 0.27762714], dtype=float32),\n",
       "   'box': array([ 475,  756,  563, 1015]),\n",
       "   'score': 0.31305587}]}"
      ]
     },
     "metadata": {},
     "execution_count": 14
    }
   ],
   "source": [
    "input[0]"
   ]
  },
  {
   "cell_type": "code",
   "execution_count": null,
   "metadata": {},
   "outputs": [],
   "source": []
  }
 ]
}